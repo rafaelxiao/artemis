{
 "cells": [
  {
   "cell_type": "code",
   "execution_count": 1,
   "metadata": {},
   "outputs": [],
   "source": [
    "import numpy as np\n",
    "import time\n",
    "import pandas as pd\n",
    "import requests\n",
    "from lxml import etree\n",
    "from tqdm import tqdm_notebook as tqdm\n",
    "import warnings\n",
    "warnings.filterwarnings('ignore')"
   ]
  },
  {
   "cell_type": "code",
   "execution_count": 2,
   "metadata": {},
   "outputs": [
    {
     "data": {
      "application/vnd.jupyter.widget-view+json": {
       "model_id": "2de0b514a26d4649a09079406b8aec46",
       "version_major": 2,
       "version_minor": 0
      },
      "text/plain": [
       "HBox(children=(IntProgress(value=0, max=10), HTML(value='')))"
      ]
     },
     "metadata": {},
     "output_type": "display_data"
    },
    {
     "name": "stdout",
     "output_type": "stream",
     "text": [
      "\n"
     ]
    }
   ],
   "source": [
    "# Crawling the Lianjia for house info\n",
    "\n",
    "def retrieve(lis):\n",
    "    if len(lis) > 0:\n",
    "        return lis[0]\n",
    "    else:\n",
    "        return None\n",
    "\n",
    "\n",
    "page = 30\n",
    "headers = {'user-agent': 'Mozilla/5.0 (compatible; MSIE 9.0; Windows NT 6.1; Trident/5.0;'}\n",
    "res_lis = []\n",
    "\n",
    "for p in tqdm(range(page)):\n",
    "    url = 'https://sz.lianjia.com/ershoufang/pg%s'%p\n",
    "    r = requests.get(url=url, verify=False, headers=headers)\n",
    "    f = etree.HTML(r.text)\n",
    "    for i in f.xpath(\"//div[@class='info clear']\"):\n",
    "        try:\n",
    "            dic = {}\n",
    "            content = i.xpath(\"./div\")\n",
    "            dic['title'] = retrieve(content[0].xpath(\"./a/text()\"))\n",
    "            dic['housecode'] = retrieve(content[0].xpath(\"./a/@data-housecode\"))\n",
    "            dic['link'] = retrieve(content[0].xpath(\"./a/@href\"))\n",
    "\n",
    "            dic['quater'] = retrieve(content[1].xpath(\".//a/text()\"))\n",
    "            dic['quater_link'] = retrieve(content[1].xpath(\".//a/@href\"))\n",
    "            line = [ii.strip() for ii in content[1].xpath(\"./div/text()\")[0].split('|')]\n",
    "            dic['layourt'] = line[1]\n",
    "            dic['area'] = line[2]\n",
    "            dic['orientation'] = line[3]\n",
    "            dic['decoration'] = line[4]\n",
    "            #dic['has_elevator'] = line[5]\n",
    "\n",
    "            dic['floor'] = retrieve(content[2].xpath(\"./div/text()\"))[:-5]\n",
    "            dic['zone'] = retrieve(content[2].xpath(\".//a/text()\"))\n",
    "\n",
    "            line = [ii.strip() for ii in content[3].xpath(\"text()\")[0].split('/')]\n",
    "            dic['follow'] = line[0]\n",
    "            #dic['watched'] = line[1]\n",
    "            dic['list_date'] = line[1]\n",
    "\n",
    "            dic['subway'] =  retrieve(content[4].xpath(\"./span[@class='subway']/text()\"))\n",
    "            dic['tax_free'] =  retrieve(content[4].xpath(\"./span[@class='taxfree']/text()\"))\n",
    "            dic['vr'] =  retrieve(content[4].xpath(\"./span[@class='vr']/text()\"))\n",
    "            dic['has_key'] =  retrieve(content[4].xpath(\"./span[@class='haskey']/text()\"))\n",
    "            if len(content[4].xpath(\"./span[@class='good']\")) > 0:\n",
    "                dic['must_see'] = '必看好房'\n",
    "\n",
    "            dic['price'] = retrieve(content[5].xpath(\"./div[@class='totalPrice']/span/text()\")\n",
    "                                   ) + retrieve(content[5].xpath(\"./div[@class='totalPrice']/text()\"))\n",
    "            dic['unit_price'] = retrieve(content[5].xpath(\"./div[@class='unitPrice']/@data-price\"))\n",
    "\n",
    "            res_lis.append(dic)\n",
    "\n",
    "        except: pass\n",
    "    time.sleep(0.5)\n",
    "\n",
    "df = pd.DataFrame(res_lis)"
   ]
  },
  {
   "cell_type": "code",
   "execution_count": null,
   "metadata": {},
   "outputs": [],
   "source": []
  }
 ],
 "metadata": {
  "kernelspec": {
   "display_name": "Python 3",
   "language": "python",
   "name": "python3"
  },
  "language_info": {
   "codemirror_mode": {
    "name": "ipython",
    "version": 3
   },
   "file_extension": ".py",
   "mimetype": "text/x-python",
   "name": "python",
   "nbconvert_exporter": "python",
   "pygments_lexer": "ipython3",
   "version": "3.6.2"
  }
 },
 "nbformat": 4,
 "nbformat_minor": 2
}

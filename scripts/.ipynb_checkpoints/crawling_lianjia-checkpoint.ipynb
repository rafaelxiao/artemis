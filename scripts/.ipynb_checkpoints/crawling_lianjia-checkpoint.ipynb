{
 "cells": [
  {
   "cell_type": "code",
   "execution_count": 1,
   "metadata": {
    "collapsed": true
   },
   "outputs": [],
   "source": [
    "import numpy as np\n",
    "import time\n",
    "import pandas as pd\n",
    "import requests\n",
    "from lxml import etree\n",
    "from tqdm import tqdm_notebook as tqdm\n",
    "import warnings\n",
    "import time\n",
    "import random\n",
    "warnings.filterwarnings('ignore')"
   ]
  },
  {
   "cell_type": "code",
   "execution_count": 5,
   "metadata": {
    "collapsed": false
   },
   "outputs": [],
   "source": [
    "# Utilities\n",
    "\n",
    "def list_url(page):\n",
    "    return 'https://sz.lianjia.com/ershoufang/pg{}/'.format(str(page))\n",
    "\n",
    "def detail_url(idx):\n",
    "    return 'https://sz.lianjia.com/ershoufang/{}.html'.format(str(idx))\n",
    "\n",
    "def random_sleep(max_sleep=3, min_sleep=0.2):\n",
    "    time.sleep(min_sleep + random.random() * max_sleep)\n",
    "    \n",
    "def make_header():\n",
    "    user_agent = [\n",
    "        'Mozilla/5.0 (Macintosh; Intel Mac OS X 10_12_6) AppleWebKit/537.36 (KHTML, like Gecko) Chrome/61.0.3163.100 Safari/537.36',\n",
    "        'Mozilla/5.0 (Windows NT 6.1; WOW64) AppleWebKit/537.36 (KHTML, like Gecko) Chrome/39.0.2171.95 Safari/537.36 OPR/26.0.1656.60',\n",
    "        'Mozilla/5.0 (Windows NT 5.1; U; en; rv:1.8.1) Gecko/20061208 Firefox/2.0.0 Opera 9.50',\n",
    "        'Mozilla/4.0 (compatible; MSIE 6.0; Windows NT 5.1; en) Opera 9.50',\n",
    "        'Mozilla/5.0 (Windows NT 6.1; WOW64; rv:34.0) Gecko/20100101 Firefox/34.0',\n",
    "        'Mozilla/5.0 (X11; U; Linux x86_64; zh-CN; rv:1.9.2.10) Gecko/20100922 Ubuntu/10.10 (maverick) Firefox/3.6.10',\n",
    "        'Mozilla/5.0 (Windows NT 6.1; WOW64) AppleWebKit/534.57.2 (KHTML, like Gecko) Version/5.1.7 Safari/534.57.2',\n",
    "        'Mozilla/5.0 (Windows NT 6.1; WOW64) AppleWebKit/537.36 (KHTML, like Gecko) Chrome/39.0.2171.71 Safari/537.36',\n",
    "        'Mozilla/5.0 (X11; Linux x86_64) AppleWebKit/537.11 (KHTML, like Gecko) Chrome/23.0.1271.64 Safari/537.11',\n",
    "        'Mozilla/5.0 (Windows; U; Windows NT 6.1; en-US) AppleWebKit/534.16 (KHTML, like Gecko) Chrome/10.0.648.133 Safari/534.16',\n",
    "        'Mozilla/5.0 (Windows NT 6.1; WOW64) AppleWebKit/537.36 (KHTML, like Gecko) Chrome/30.0.1599.101 Safari/537.36',\n",
    "        'Mozilla/5.0 (Windows NT 6.1; WOW64; Trident/7.0; rv:11.0) like Gecko',\n",
    "        'Mozilla/5.0 (Windows NT 6.1; WOW64) AppleWebKit/537.1 (KHTML, like Gecko) Chrome/21.0.1180.71 Safari/537.1 LBBROWSER',\n",
    "        'Mozilla/5.0 (compatible; MSIE 9.0; Windows NT 6.1; WOW64; Trident/5.0; SLCC2; .NET CLR 2.0.50727; .NET CLR 3.5.30729; .NET CLR 3.0.30729; Media Center PC 6.0; .NET4.0C; .NET4.0E; LBBROWSER)',\n",
    "        'Mozilla/5.0 (compatible; MSIE 9.0; Windows NT 6.1; WOW64; Trident/5.0; SLCC2; .NET CLR 2.0.50727; .NET CLR 3.5.30729; .NET CLR 3.0.30729; Media Center PC 6.0; .NET4.0C; .NET4.0E; QQBrowser/7.0.3698.400)',\n",
    "        'Mozilla/4.0 (compatible; MSIE 6.0; Windows NT 5.1; SV1; QQDownload 732; .NET4.0C; .NET4.0E)',\n",
    "        'Mozilla/5.0 (Windows NT 5.1) AppleWebKit/535.11 (KHTML, like Gecko) Chrome/17.0.963.84 Safari/535.11 SE 2.X MetaSr 1.0',\n",
    "        'Mozilla/4.0 (compatible; MSIE 7.0; Windows NT 5.1; Trident/4.0; SV1; QQDownload 732; .NET4.0C; .NET4.0E; SE 2.X MetaSr 1.0)',\n",
    "    ]\n",
    "    return {'user-agent': random.choice(user_agent)}\n",
    "\n",
    "def get_page(url):\n",
    "    header = make_header()\n",
    "    r = requests.get(url=url, verify=False, headers=header)\n",
    "    if r.status_code == 200:\n",
    "        return etree.HTML(r.text)"
   ]
  },
  {
   "cell_type": "code",
   "execution_count": 7,
   "metadata": {
    "collapsed": false
   },
   "outputs": [],
   "source": [
    "page = get_page(list_url(1))"
   ]
  },
  {
   "cell_type": "code",
   "execution_count": 162,
   "metadata": {
    "collapsed": false
   },
   "outputs": [],
   "source": [
    "ids = page.xpath(\"//div[@class='info clear']//div[@class='title']/a/@data-housecode\")\n",
    "titles = page.xpath(\"//div[@class='info clear']//div[@class='title']/a/text()\")\n",
    "loc_1 = page.xpath(\"//div[@class='info clear']//div[@class='positionInfo']//a[1]/text()\")\n",
    "loc_2 = page.xpath(\"//div[@class='info clear']//div[@class='positionInfo']//a[2]/text()\")\n",
    "floor = [i.tail for i in page.xpath(\"//div[@class='item']/div[1]//span[1]\")]\n",
    "area = [i.tail for i in page.xpath(\"//div[@class='item']/div[1]//span[2]\")]\n",
    "facing = [i.tail for i in page.xpath(\"//div[@class='item']/div[1]//span[3]\")]\n",
    "decoration = [i.tail for i in page.xpath(\"//div[@class='item']/div[1]//span[4]\")]\n",
    "\n",
    "floor = []\n",
    "area = []\n",
    "facing = []\n",
    "deco = []\n",
    "height = []\n",
    "age = []\n",
    "typ = []\n",
    "for i in page.xpath(\"//div[@class='info clear']//div[@class='houseInfo']/text()\"):\n",
    "    text = i.split('|')\n",
    "    text = [t.strip() for t in text]\n",
    "    floor.append(text[0])\n",
    "    area.append(text[1])\n",
    "    facing.append(text[2])\n",
    "    deco.append(text[3])\n",
    "    height.append(text[4])\n",
    "    age.append(text[5])\n",
    "    typ.append(text[6])\n",
    "    \n",
    "watch = []\n",
    "list_time = []\n",
    "for i in page.xpath(\"//div[@class='info clear']//div[@class='followInfo']/text()\"):\n",
    "    text = i.split('/')\n",
    "    text = [t.strip() for t in text]\n",
    "    watch.append(text[0])\n",
    "    list_time.append(text[1])\n",
    "\n",
    "total_price = page.xpath(\"//div[@class='info clear']//div[@class='totalPrice']/span/text()\")\n",
    "unit_price = page.xpath(\"//div[@class='info clear']//div[@class='unitPrice']/@data-price\")\n",
    "\n",
    "tags = []\n",
    "for i in page.xpath(\"//div[@class='info clear']//div[@class='tag']\"):\n",
    "    tags.append(','.join(i.xpath('./span/text()')))"
   ]
  },
  {
   "cell_type": "code",
   "execution_count": null,
   "metadata": {
    "collapsed": true
   },
   "outputs": [],
   "source": []
  }
 ],
 "metadata": {
  "kernelspec": {
   "display_name": "Python 3",
   "language": "python",
   "name": "python3"
  },
  "language_info": {
   "codemirror_mode": {
    "name": "ipython",
    "version": 3
   },
   "file_extension": ".py",
   "mimetype": "text/x-python",
   "name": "python",
   "nbconvert_exporter": "python",
   "pygments_lexer": "ipython3",
   "version": "3.6.7"
  }
 },
 "nbformat": 4,
 "nbformat_minor": 2
}

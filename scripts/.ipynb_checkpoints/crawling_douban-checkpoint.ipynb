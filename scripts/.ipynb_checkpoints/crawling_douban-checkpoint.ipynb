{
 "cells": [
  {
   "cell_type": "code",
   "execution_count": 74,
   "metadata": {
    "collapsed": true
   },
   "outputs": [],
   "source": [
    "import requests\n",
    "import time\n",
    "import random\n",
    "import platform\n",
    "from tqdm import tqdm_notebook as tqdm\n",
    "from lxml import etree\n",
    "from selenium import webdriver"
   ]
  },
  {
   "cell_type": "code",
   "execution_count": 75,
   "metadata": {
    "collapsed": false
   },
   "outputs": [
    {
     "name": "stdout",
     "output_type": "stream",
     "text": [
      "\n"
     ]
    }
   ],
   "source": [
    "scrolls = 25\n",
    "\n",
    "if platform.system() == 'Windows':\n",
    "    driver = webdriver.Chrome(\n",
    "        \"C:\\Program Files (x86)\\Google\\Chrome\\Application\\chromedriver.exe\")\n",
    "    \n",
    "driver.get('https://movie.douban.com/tv/')\n",
    "time.sleep(1)\n",
    "driver.find_element_by_xpath(\"//input[@value='国产剧']/..\").click()\n",
    "time.sleep(1)\n",
    "for i in tqdm(range(scrolls)):\n",
    "    try:\n",
    "        if driver.find_element_by_xpath(\"//a[text()='加载更多']\").is_displayed():\n",
    "            driver.find_element_by_xpath(\"//a[text()='加载更多']\").click()\n",
    "            time.sleep(1+random.random())\n",
    "    except:\n",
    "        time.sleep(3)\n",
    "        \n",
    "f = etree.HTML(driver.page_source)"
   ]
  },
  {
   "cell_type": "code",
   "execution_count": 73,
   "metadata": {
    "collapsed": false
   },
   "outputs": [
    {
     "data": {
      "text/plain": [
       "440"
      ]
     },
     "execution_count": 73,
     "metadata": {},
     "output_type": "execute_result"
    }
   ],
   "source": [
    "len(f.xpath('//div[@class=\\'cover-wp\\']'))"
   ]
  },
  {
   "cell_type": "code",
   "execution_count": null,
   "metadata": {
    "collapsed": true
   },
   "outputs": [],
   "source": []
  }
 ],
 "metadata": {
  "kernelspec": {
   "display_name": "Python 3",
   "language": "python",
   "name": "python3"
  },
  "language_info": {
   "codemirror_mode": {
    "name": "ipython",
    "version": 3
   },
   "file_extension": ".py",
   "mimetype": "text/x-python",
   "name": "python",
   "nbconvert_exporter": "python",
   "pygments_lexer": "ipython3",
   "version": "3.6.7"
  },
  "widgets": {
   "state": {
    "ee716c63d15b470bb5d5c70ba6adcb74": {
     "views": [
      {
       "cell_index": 1
      }
     ]
    }
   },
   "version": "1.2.0"
  }
 },
 "nbformat": 4,
 "nbformat_minor": 2
}

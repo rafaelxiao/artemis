{
 "cells": [
  {
   "cell_type": "code",
   "execution_count": 128,
   "metadata": {
    "collapsed": true
   },
   "outputs": [],
   "source": [
    "import requests\n",
    "import random\n",
    "import time\n",
    "import pandas as pd\n",
    "from tqdm import tqdm_notebook as tqdm\n",
    "from lxml import etree"
   ]
  },
  {
   "cell_type": "code",
   "execution_count": 125,
   "metadata": {
    "collapsed": false
   },
   "outputs": [],
   "source": [
    "class Crawl_Liepin():\n",
    "\n",
    "    user_agent = [\n",
    "        'Mozilla/5.0 (Macintosh; Intel Mac OS X 10_12_6) AppleWebKit/537.36 (KHTML, like Gecko) Chrome/61.0.3163.100 Safari/537.36',\n",
    "        'Mozilla/5.0 (Windows NT 6.1; WOW64) AppleWebKit/537.36 (KHTML, like Gecko) Chrome/39.0.2171.95 Safari/537.36 OPR/26.0.1656.60',\n",
    "        'Mozilla/5.0 (Windows NT 5.1; U; en; rv:1.8.1) Gecko/20061208 Firefox/2.0.0 Opera 9.50',\n",
    "        'Mozilla/4.0 (compatible; MSIE 6.0; Windows NT 5.1; en) Opera 9.50',\n",
    "        'Mozilla/5.0 (Windows NT 6.1; WOW64; rv:34.0) Gecko/20100101 Firefox/34.0',\n",
    "        'Mozilla/5.0 (X11; U; Linux x86_64; zh-CN; rv:1.9.2.10) Gecko/20100922 Ubuntu/10.10 (maverick) Firefox/3.6.10',\n",
    "        'Mozilla/5.0 (Windows NT 6.1; WOW64) AppleWebKit/534.57.2 (KHTML, like Gecko) Version/5.1.7 Safari/534.57.2',\n",
    "        'Mozilla/5.0 (Windows NT 6.1; WOW64) AppleWebKit/537.36 (KHTML, like Gecko) Chrome/39.0.2171.71 Safari/537.36',\n",
    "        'Mozilla/5.0 (X11; Linux x86_64) AppleWebKit/537.11 (KHTML, like Gecko) Chrome/23.0.1271.64 Safari/537.11',\n",
    "        'Mozilla/5.0 (Windows; U; Windows NT 6.1; en-US) AppleWebKit/534.16 (KHTML, like Gecko) Chrome/10.0.648.133 Safari/534.16',\n",
    "        'Mozilla/5.0 (Windows NT 6.1; WOW64) AppleWebKit/537.36 (KHTML, like Gecko) Chrome/30.0.1599.101 Safari/537.36',\n",
    "        'Mozilla/5.0 (Windows NT 6.1; WOW64; Trident/7.0; rv:11.0) like Gecko',\n",
    "        'Mozilla/5.0 (Windows NT 6.1; WOW64) AppleWebKit/537.1 (KHTML, like Gecko) Chrome/21.0.1180.71 Safari/537.1 LBBROWSER',\n",
    "        'Mozilla/5.0 (compatible; MSIE 9.0; Windows NT 6.1; WOW64; Trident/5.0; SLCC2; .NET CLR 2.0.50727; .NET CLR 3.5.30729; .NET CLR 3.0.30729; Media Center PC 6.0; .NET4.0C; .NET4.0E; LBBROWSER)',\n",
    "        'Mozilla/5.0 (compatible; MSIE 9.0; Windows NT 6.1; WOW64; Trident/5.0; SLCC2; .NET CLR 2.0.50727; .NET CLR 3.5.30729; .NET CLR 3.0.30729; Media Center PC 6.0; .NET4.0C; .NET4.0E; QQBrowser/7.0.3698.400)',\n",
    "        'Mozilla/4.0 (compatible; MSIE 6.0; Windows NT 5.1; SV1; QQDownload 732; .NET4.0C; .NET4.0E)',\n",
    "        'Mozilla/5.0 (Windows NT 5.1) AppleWebKit/535.11 (KHTML, like Gecko) Chrome/17.0.963.84 Safari/535.11 SE 2.X MetaSr 1.0',\n",
    "        'Mozilla/4.0 (compatible; MSIE 7.0; Windows NT 5.1; Trident/4.0; SV1; QQDownload 732; .NET4.0C; .NET4.0E; SE 2.X MetaSr 1.0)',\n",
    "    ]\n",
    "\n",
    "    def get_main_url(self, page, city='sz'):\n",
    "        url = 'https://www.liepin.com/city-%s/zhaopin/'%city\n",
    "        if page >= 1:\n",
    "            url += 'pn%s/'%(page-1)\n",
    "        #url += '?key=&d_sfrom=search_city&d_ckId=c72351a8c506da0d2bf13032a46d9b98&d_curPage=1&d_pageSize=40&d_headId=c72351a8c506da0d2bf13032a46d9b98'\n",
    "        return url\n",
    "\n",
    "    # Crawl the page\n",
    "    def crawl(self, url, sleep=0.1):\n",
    "        headers = {'user-agent': random.choice(self.user_agent)}\n",
    "        response = requests.get(url=url, headers=headers)\n",
    "        time.sleep(sleep)\n",
    "        return response.text\n",
    "\n",
    "    def get_jd_url(self, text):\n",
    "        f = etree.HTML(text)\n",
    "        return [i for i in f.xpath('//@href') if '/job/' in i and 'shtml' in i]\n",
    "    \n",
    "    def parse_jd(self, text):\n",
    "        dic = {}\n",
    "        f = etree.HTML(text)\n",
    "        job_url = self.retrieve(f.xpath('//link[@rel=\"canonical\"]/@href'))\n",
    "        dic['job_id'] = job_url.split('/')[-1][:-6]\n",
    "        dic['job_title'] = self.retrieve(f.xpath('//h1/text()'))\n",
    "        dic['job_url'] = job_url\n",
    "        dic['company']= self.retrieve(f.xpath('//h3/a/@title'))\n",
    "        dic['company_url']= self.retrieve(f.xpath('//h3/a/@href'))\n",
    "        dic['salary']= self.retrieve(f.xpath(\"//p[@class='job-item-title']/text()\")).strip()\n",
    "        dic['location'] = self.retrieve(f.xpath(\"//p[@class='basic-infor']/span/a/text()\"))\n",
    "        if self.retrieve(f.xpath(\"//em[@class='job-title-icon-inclined']\")) is not None:\n",
    "            dic['eager'] = '急聘'\n",
    "        dic['list_date'] = self.retrieve(f.xpath(\"//time[@title]/@title\"))\n",
    "        job_quali = f.xpath(\"//div[@class='job-qualifications']/span/text()\")\n",
    "        dic['degree'] = job_quali[0]\n",
    "        dic['experience'] = job_quali[1]\n",
    "        dic['language'] = job_quali[2]\n",
    "        dic['age'] = job_quali[3]\n",
    "        dic['tag'] = f.xpath(\"//ul[@class='comp-tag-list clearfix']/li/span/text()\")\n",
    "        dic['job_desc'] = [ii.strip() for ii in f.xpath(\"//div[@class='content content-word']/text()\") if len(ii.strip())>0]\n",
    "        dic['company_desc'] = [ii.strip() for ii in f.xpath(\"//div[@class='info-word']/text()\") if len(ii.strip())>0]\n",
    "        info_labels = f.xpath(\"//div[@class='content']/ul/li/span/text()\")\n",
    "        info_texts = f.xpath(\"//div[@class='content']/ul/li/label/text()\")\n",
    "        if len(info_labels) == len(info_texts):\n",
    "            if \"下属人数：\" in info_labels:\n",
    "                dic['num_of_subs'] = info_texts[info_labels.index(\"下属人数：\")]\n",
    "            if \"所属部门：\" in info_labels:\n",
    "                dic['department'] = info_texts[info_labels.index(\"所属部门：\")]\n",
    "            if \"汇报对象：\" in info_labels:\n",
    "                dic['supervisor'] = info_texts[info_labels.index(\"汇报对象：\")]\n",
    "            if \"企业性质：\" in info_labels:\n",
    "                dic['type_of_company'] = info_texts[info_labels.index(\"企业性质：\")]\n",
    "            if \"企业规模：\" in info_labels:\n",
    "                dic['scale_of_company'] = info_texts[info_labels.index(\"企业规模：\")]\n",
    "        return dic\n",
    "    \n",
    "    # Compatible with the xpath lib, return the first value if finded or None if not\n",
    "    def retrieve(self, lis):\n",
    "        if len(lis) > 0:\n",
    "            return lis[0]\n",
    "        else:\n",
    "            return None"
   ]
  },
  {
   "cell_type": "code",
   "execution_count": 131,
   "metadata": {
    "collapsed": false
   },
   "outputs": [
    {
     "name": "stdout",
     "output_type": "stream",
     "text": [
      "\n",
      "\n"
     ]
    }
   ],
   "source": [
    "crawler = Crawl_Liepin()\n",
    "job_urls = []\n",
    "for i in tqdm(range(1, 101)):\n",
    "    try:\n",
    "        main_url = crawler.get_main_url(i)\n",
    "        text = crawler.crawl(main_url)\n",
    "        job_urls += crawler.get_jd_url(text)\n",
    "    except: pass\n",
    "result = []\n",
    "for i in tqdm(job_urls):\n",
    "    try:\n",
    "        text = crawler.crawl(i)\n",
    "        result.append(crawler.parse_jd(text))\n",
    "    except: pass"
   ]
  },
  {
   "cell_type": "code",
   "execution_count": 132,
   "metadata": {
    "collapsed": false
   },
   "outputs": [],
   "source": [
    "df = pd.DataFrame(result)"
   ]
  },
  {
   "cell_type": "code",
   "execution_count": 137,
   "metadata": {
    "collapsed": false
   },
   "outputs": [],
   "source": [
    "df.to_excel('07-06.xlsx')"
   ]
  },
  {
   "cell_type": "code",
   "execution_count": 5,
   "metadata": {
    "collapsed": true
   },
   "outputs": [],
   "source": [
    "f = crawler.crawl(jd_urls[0])\n",
    "f = etree.HTML(f)"
   ]
  },
  {
   "cell_type": "code",
   "execution_count": 72,
   "metadata": {
    "collapsed": false
   },
   "outputs": [
    {
     "data": {
      "text/plain": [
       "'深圳'"
      ]
     },
     "execution_count": 72,
     "metadata": {},
     "output_type": "execute_result"
    }
   ],
   "source": [
    "crawler.retrieve(f.xpath(\"//p[@class='basic-infor']/span/a/text()\"))"
   ]
  },
  {
   "cell_type": "code",
   "execution_count": 38,
   "metadata": {
    "collapsed": false
   },
   "outputs": [
    {
     "data": {
      "text/plain": [
       "2"
      ]
     },
     "execution_count": 38,
     "metadata": {},
     "output_type": "execute_result"
    }
   ],
   "source": [
    "len(z.strip())"
   ]
  },
  {
   "cell_type": "code",
   "execution_count": 39,
   "metadata": {
    "collapsed": false
   },
   "outputs": [
    {
     "data": {
      "text/plain": [
       "'面议'"
      ]
     },
     "execution_count": 39,
     "metadata": {},
     "output_type": "execute_result"
    }
   ],
   "source": [
    "z.strip()"
   ]
  },
  {
   "cell_type": "code",
   "execution_count": 92,
   "metadata": {
    "collapsed": false
   },
   "outputs": [
    {
     "data": {
      "text/plain": [
       "['所属部门：', '专业要求：', '汇报对象：', '下属人数：']"
      ]
     },
     "execution_count": 92,
     "metadata": {},
     "output_type": "execute_result"
    }
   ],
   "source": [
    "f.xpath(\"//div[@class='content']/ul/li/span/text()\")"
   ]
  },
  {
   "cell_type": "code",
   "execution_count": 93,
   "metadata": {
    "collapsed": false
   },
   "outputs": [
    {
     "data": {
      "text/plain": [
       "['FAE', '不限', '无', '0人']"
      ]
     },
     "execution_count": 93,
     "metadata": {},
     "output_type": "execute_result"
    }
   ],
   "source": [
    "f.xpath(\"//div[@class='content']/ul/li/label/text()\")"
   ]
  },
  {
   "cell_type": "code",
   "execution_count": null,
   "metadata": {
    "collapsed": true
   },
   "outputs": [],
   "source": []
  }
 ],
 "metadata": {
  "kernelspec": {
   "display_name": "Python 3",
   "language": "python",
   "name": "python3"
  },
  "language_info": {
   "codemirror_mode": {
    "name": "ipython",
    "version": 3
   },
   "file_extension": ".py",
   "mimetype": "text/x-python",
   "name": "python",
   "nbconvert_exporter": "python",
   "pygments_lexer": "ipython3",
   "version": "3.6.7"
  },
  "widgets": {
   "state": {
    "022971c166d8454181b59246d1606ce3": {
     "views": [
      {
       "cell_index": 3
      }
     ]
    },
    "209ffd4c12e74fdc8d61000a74caeafe": {
     "views": [
      {
       "cell_index": 2
      }
     ]
    },
    "3e6c38f69667403fa6aa1147064a7341": {
     "views": [
      {
       "cell_index": 3
      }
     ]
    },
    "5e2dacaf59f849ef89c32931fd6ce21e": {
     "views": [
      {
       "cell_index": 2
      }
     ]
    },
    "7a26bdd9d06949c1a0fb5a9695e5b5b5": {
     "views": [
      {
       "cell_index": 3
      }
     ]
    },
    "b963895717734bbabcfd5dcea7fa1923": {
     "views": [
      {
       "cell_index": 2
      }
     ]
    },
    "bbb5992667ea4de7bce1713941eb7981": {
     "views": [
      {
       "cell_index": 2
      }
     ]
    }
   },
   "version": "1.2.0"
  }
 },
 "nbformat": 4,
 "nbformat_minor": 2
}

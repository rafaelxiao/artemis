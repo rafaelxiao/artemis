{
 "cells": [
  {
   "cell_type": "code",
   "execution_count": 1,
   "metadata": {},
   "outputs": [],
   "source": [
    "import tushare as ts"
   ]
  },
  {
   "cell_type": "code",
   "execution_count": 2,
   "metadata": {},
   "outputs": [],
   "source": [
    "def initiate(file='tushare_token'):\n",
    "\n",
    "    with open ('../token/%s'%file, 'r') as t:\n",
    "        token = t.read()\n",
    "\n",
    "    return ts.pro_api(token)"
   ]
  },
  {
   "cell_type": "code",
   "execution_count": 3,
   "metadata": {},
   "outputs": [
    {
     "name": "stdout",
     "output_type": "stream",
     "text": [
      "      ts_code trade_date  open  high   low  close  pre_close  change  pct_chg  \\\n",
      "0   000001.SZ   20180718  8.75  8.85  8.69   8.70       8.72   -0.02    -0.23   \n",
      "1   000001.SZ   20180717  8.74  8.75  8.66   8.72       8.73   -0.01    -0.11   \n",
      "2   000001.SZ   20180716  8.85  8.90  8.69   8.73       8.88   -0.15    -1.69   \n",
      "3   000001.SZ   20180713  8.92  8.94  8.82   8.88       8.88    0.00     0.00   \n",
      "4   000001.SZ   20180712  8.60  8.97  8.58   8.88       8.64    0.24     2.78   \n",
      "5   000001.SZ   20180711  8.76  8.83  8.68   8.78       8.98   -0.20    -2.23   \n",
      "6   000001.SZ   20180710  9.02  9.02  8.89   8.98       9.03   -0.05    -0.55   \n",
      "7   000001.SZ   20180709  8.69  9.03  8.68   9.03       8.66    0.37     4.27   \n",
      "8   000001.SZ   20180706  8.61  8.78  8.45   8.66       8.60    0.06     0.70   \n",
      "9   000001.SZ   20180705  8.62  8.73  8.55   8.60       8.61   -0.01    -0.12   \n",
      "10  000001.SZ   20180704  8.63  8.75  8.61   8.61       8.67   -0.06    -0.69   \n",
      "11  000001.SZ   20180703  8.69  8.70  8.45   8.67       8.61    0.06     0.70   \n",
      "12  000001.SZ   20180702  9.05  9.05  8.55   8.61       9.09   -0.48    -5.28   \n",
      "\n",
      "           vol       amount  \n",
      "0    525152.77   460697.377  \n",
      "1    375356.33   326396.994  \n",
      "2    689845.58   603427.713  \n",
      "3    603378.21   535401.175  \n",
      "4   1140492.31  1008658.828  \n",
      "5    851296.70   744765.824  \n",
      "6    896862.02   803038.965  \n",
      "7   1409954.60  1255007.609  \n",
      "8    988282.69   852071.526  \n",
      "9    835768.77   722169.579  \n",
      "10   711153.37   617278.559  \n",
      "11  1274838.57  1096657.033  \n",
      "12  1315520.13  1158545.868  \n"
     ]
    }
   ],
   "source": [
    "df = initiate().daily(ts_code='000001.SZ', start_date='20180701', end_date='20180718')\n",
    "\n",
    "print(df)"
   ]
  },
  {
   "cell_type": "code",
   "execution_count": null,
   "metadata": {},
   "outputs": [],
   "source": []
  }
 ],
 "metadata": {
  "kernelspec": {
   "display_name": "Python 3",
   "language": "python",
   "name": "python3"
  },
  "language_info": {
   "codemirror_mode": {
    "name": "ipython",
    "version": 3
   },
   "file_extension": ".py",
   "mimetype": "text/x-python",
   "name": "python",
   "nbconvert_exporter": "python",
   "pygments_lexer": "ipython3",
   "version": "3.6.2"
  }
 },
 "nbformat": 4,
 "nbformat_minor": 2
}

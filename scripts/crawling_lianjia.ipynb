{
 "cells": [
  {
   "cell_type": "code",
   "execution_count": 24,
   "metadata": {},
   "outputs": [],
   "source": [
    "import numpy as np\n",
    "import time\n",
    "import pandas as pd\n",
    "import requests\n",
    "from lxml import etree\n",
    "from tqdm import tqdm_notebook as tqdm\n",
    "import warnings\n",
    "import time\n",
    "import random\n",
    "import os\n",
    "warnings.filterwarnings('ignore')\n",
    "import matplotlib.pyplot as plt"
   ]
  },
  {
   "cell_type": "code",
   "execution_count": 2,
   "metadata": {},
   "outputs": [],
   "source": [
    "# Utilities\n",
    "\n",
    "def list_url(page):\n",
    "    return 'https://sz.lianjia.com/ershoufang/pg{}/'.format(str(page))\n",
    "\n",
    "def detail_url(idx):\n",
    "    return 'https://sz.lianjia.com/ershoufang/{}.html'.format(str(idx))\n",
    "\n",
    "def random_sleep(max_sleep=3, min_sleep=0.2):\n",
    "    time.sleep(min_sleep + random.random() * max_sleep)\n",
    "    \n",
    "def make_header():\n",
    "    user_agent = [\n",
    "        'Mozilla/5.0 (Macintosh; Intel Mac OS X 10_12_6) AppleWebKit/537.36 (KHTML, like Gecko) Chrome/61.0.3163.100 Safari/537.36',\n",
    "        'Mozilla/5.0 (Windows NT 6.1; WOW64) AppleWebKit/537.36 (KHTML, like Gecko) Chrome/39.0.2171.95 Safari/537.36 OPR/26.0.1656.60',\n",
    "        'Mozilla/5.0 (Windows NT 5.1; U; en; rv:1.8.1) Gecko/20061208 Firefox/2.0.0 Opera 9.50',\n",
    "        'Mozilla/4.0 (compatible; MSIE 6.0; Windows NT 5.1; en) Opera 9.50',\n",
    "        'Mozilla/5.0 (Windows NT 6.1; WOW64; rv:34.0) Gecko/20100101 Firefox/34.0',\n",
    "        'Mozilla/5.0 (X11; U; Linux x86_64; zh-CN; rv:1.9.2.10) Gecko/20100922 Ubuntu/10.10 (maverick) Firefox/3.6.10',\n",
    "        'Mozilla/5.0 (Windows NT 6.1; WOW64) AppleWebKit/534.57.2 (KHTML, like Gecko) Version/5.1.7 Safari/534.57.2',\n",
    "        'Mozilla/5.0 (Windows NT 6.1; WOW64) AppleWebKit/537.36 (KHTML, like Gecko) Chrome/39.0.2171.71 Safari/537.36',\n",
    "        'Mozilla/5.0 (X11; Linux x86_64) AppleWebKit/537.11 (KHTML, like Gecko) Chrome/23.0.1271.64 Safari/537.11',\n",
    "        'Mozilla/5.0 (Windows; U; Windows NT 6.1; en-US) AppleWebKit/534.16 (KHTML, like Gecko) Chrome/10.0.648.133 Safari/534.16',\n",
    "        'Mozilla/5.0 (Windows NT 6.1; WOW64) AppleWebKit/537.36 (KHTML, like Gecko) Chrome/30.0.1599.101 Safari/537.36',\n",
    "        'Mozilla/5.0 (Windows NT 6.1; WOW64; Trident/7.0; rv:11.0) like Gecko',\n",
    "        'Mozilla/5.0 (Windows NT 6.1; WOW64) AppleWebKit/537.1 (KHTML, like Gecko) Chrome/21.0.1180.71 Safari/537.1 LBBROWSER',\n",
    "        'Mozilla/5.0 (compatible; MSIE 9.0; Windows NT 6.1; WOW64; Trident/5.0; SLCC2; .NET CLR 2.0.50727; .NET CLR 3.5.30729; .NET CLR 3.0.30729; Media Center PC 6.0; .NET4.0C; .NET4.0E; LBBROWSER)',\n",
    "        'Mozilla/5.0 (compatible; MSIE 9.0; Windows NT 6.1; WOW64; Trident/5.0; SLCC2; .NET CLR 2.0.50727; .NET CLR 3.5.30729; .NET CLR 3.0.30729; Media Center PC 6.0; .NET4.0C; .NET4.0E; QQBrowser/7.0.3698.400)',\n",
    "        'Mozilla/4.0 (compatible; MSIE 6.0; Windows NT 5.1; SV1; QQDownload 732; .NET4.0C; .NET4.0E)',\n",
    "        'Mozilla/5.0 (Windows NT 5.1) AppleWebKit/535.11 (KHTML, like Gecko) Chrome/17.0.963.84 Safari/535.11 SE 2.X MetaSr 1.0',\n",
    "        'Mozilla/4.0 (compatible; MSIE 7.0; Windows NT 5.1; Trident/4.0; SV1; QQDownload 732; .NET4.0C; .NET4.0E; SE 2.X MetaSr 1.0)',\n",
    "    ]\n",
    "    return {'user-agent': random.choice(user_agent)}\n",
    "\n",
    "def get_page(url):\n",
    "    header = make_header()\n",
    "    r = requests.get(url=url, verify=False, headers=header)\n",
    "    if r.status_code == 200:\n",
    "        return etree.HTML(r.text)\n",
    "    else:\n",
    "        print(r.status_code)"
   ]
  },
  {
   "cell_type": "code",
   "execution_count": 3,
   "metadata": {},
   "outputs": [],
   "source": [
    "def parse_main(page: etree._Element):\n",
    "    df = pd.DataFrame()\n",
    "    \n",
    "    df['id'] = page.xpath(\"//div[@class='info clear']//div[@class='title']/a/@data-housecode\")\n",
    "    df['title'] = page.xpath(\"//div[@class='info clear']//div[@class='title']/a/text()\")\n",
    "    df['addr_1'] = page.xpath(\"//div[@class='info clear']//div[@class='positionInfo']//a[1]/text()\")\n",
    "    df['addr_2'] = page.xpath(\"//div[@class='info clear']//div[@class='positionInfo']//a[2]/text()\")\n",
    "\n",
    "    floor = []\n",
    "    area = []\n",
    "    direction = []\n",
    "    deco = []\n",
    "    height = []\n",
    "    age = []\n",
    "    typ = []\n",
    "    for i in page.xpath(\"//div[@class='info clear']//div[@class='houseInfo']/text()\"):\n",
    "        text = i.split('|')\n",
    "        text = [t.strip() for t in text]\n",
    "        floor.append(text[0])\n",
    "        area.append(text[1])\n",
    "        direction.append(text[2])\n",
    "        deco.append(text[3])\n",
    "        height.append(text[4])\n",
    "        age.append(text[5])\n",
    "        typ.append(text[6])\n",
    "    \n",
    "    df['floor_plan'] = floor\n",
    "    df['area'] = area\n",
    "    df['direction'] = direction\n",
    "    df['decoration'] = deco\n",
    "    df['height'] = height\n",
    "    df['age'] = age\n",
    "    df['type'] = typ\n",
    "    del floor, area, direction, deco, height, age, typ\n",
    "\n",
    "    watch = []\n",
    "    list_time = []\n",
    "    for i in page.xpath(\"//div[@class='info clear']//div[@class='followInfo']/text()\"):\n",
    "        text = i.split('/')\n",
    "        text = [t.strip() for t in text]\n",
    "        watch.append(text[0])\n",
    "        list_time.append(text[1])\n",
    "\n",
    "    df['watch'] = watch\n",
    "    df['list_time'] = list_time\n",
    "    \n",
    "    del watch, list_time\n",
    "\n",
    "    df['total_price'] = page.xpath(\"//div[@class='info clear']//div[@class='totalPrice']/span/text()\")\n",
    "    df['unit_price'] = page.xpath(\"//div[@class='info clear']//div[@class='unitPrice']/@data-price\")\n",
    "\n",
    "    tags = []\n",
    "    for i in page.xpath(\"//div[@class='info clear']//div[@class='tag']\"):\n",
    "        tags.append(','.join(i.xpath('./span/text()')))\n",
    "        \n",
    "    df['tags'] = tags\n",
    "    \n",
    "    return df"
   ]
  },
  {
   "cell_type": "code",
   "execution_count": null,
   "metadata": {},
   "outputs": [
    {
     "data": {
      "application/vnd.jupyter.widget-view+json": {
       "model_id": "dfd4c58452f342e48d687512eda20213",
       "version_major": 2,
       "version_minor": 0
      },
      "text/plain": [
       "HBox(children=(IntProgress(value=0, max=99), HTML(value='')))"
      ]
     },
     "metadata": {},
     "output_type": "display_data"
    },
    {
     "name": "stdout",
     "output_type": "stream",
     "text": [
      "\n"
     ]
    },
    {
     "data": {
      "application/vnd.jupyter.widget-view+json": {
       "model_id": "e3155fb06ea2411a8d28e5aa9b0130d2",
       "version_major": 2,
       "version_minor": 0
      },
      "text/plain": [
       "HBox(children=(IntProgress(value=0, max=99), HTML(value='')))"
      ]
     },
     "metadata": {},
     "output_type": "display_data"
    }
   ],
   "source": [
    "if 'save' not in os.listdir():\n",
    "    os.mkdir('save')\n",
    "\n",
    "sleep = 10\n",
    "num_its = 100\n",
    "error_counts = 0\n",
    "for i in tqdm(range(1, num_its)):\n",
    "    while error_counts <=100:\n",
    "        try:\n",
    "            page = get_page(list_url(i))\n",
    "            parse_main(page).to_pickle('save/{0}.pkl'.format(str(i)), protocol = -1)\n",
    "            random_sleep(sleep)\n",
    "        except:\n",
    "            error_counts += 1\n",
    "            pass"
   ]
  },
  {
   "cell_type": "code",
   "execution_count": 18,
   "metadata": {},
   "outputs": [],
   "source": [
    "def load_result(path):\n",
    "    \n",
    "#     def parse_list_time(x):\n",
    "#         try:\n",
    "#             if x[1] == '天':\n",
    "#                 return np.int(x[0])\n",
    "#             elif x[2] == '月':\n",
    "#                 return np.int(x[0]) * 30\n",
    "#             else:\n",
    "#                 return 365\n",
    "#         except:\n",
    "#             return None\n",
    "        \n",
    "    res = []\n",
    "    for i in os.listdir('save'):\n",
    "        res.append(pd.read_pickle('save/{0}'.format(str(i))))\n",
    "    df = pd.concat(res, axis=0).reset_index(drop=True)\n",
    "#     df['area'] = df['area'].apply(lambda x: x[:x.index('平')]).astype(float)\n",
    "#     df['age'] = df['age'].apply(lambda x: x[:x.index('年')]).astype(int)\n",
    "#     df['watch'] = df['watch'].apply(lambda x: x[:x.index('人')]).astype(int)\n",
    "#     df['list_time'] = df['watch'].apply(parse_list_time)\n",
    "    \n",
    "    \n",
    "    return df"
   ]
  },
  {
   "cell_type": "code",
   "execution_count": 162,
   "metadata": {},
   "outputs": [],
   "source": [
    "page3 = get_page(detail_url('105103180360'))"
   ]
  },
  {
   "cell_type": "code",
   "execution_count": 63,
   "metadata": {},
   "outputs": [],
   "source": [
    "page2 = get_page(detail_url('105102698194'))"
   ]
  },
  {
   "cell_type": "code",
   "execution_count": 74,
   "metadata": {},
   "outputs": [],
   "source": [
    "page = get_page(detail_url('105102437021'))"
   ]
  },
  {
   "cell_type": "code",
   "execution_count": 246,
   "metadata": {},
   "outputs": [],
   "source": [
    "def retrieve(lis):\n",
    "    try:\n",
    "        return lis[0]\n",
    "    except:\n",
    "        return None\n",
    "\n",
    "def parse_detail(page: etree._Element):\n",
    "    \n",
    "    def parse_tag(dic, tag):\n",
    "        if 'tag is_near_subway ' in tag:\n",
    "            dic['near_subway'] = 1\n",
    "        else:\n",
    "            dic['near_subway'] = 0\n",
    "\n",
    "        if 'tag good CLICKDATA VIEWDATA' in tag:\n",
    "            dic['good'] = 1\n",
    "        else:\n",
    "            dic['good'] = 0\n",
    "\n",
    "        if 'tag vr ' in tag:\n",
    "            dic['vr'] = 1\n",
    "        else:\n",
    "            dic['vr'] = 0\n",
    "\n",
    "        if 'tag five ' in tag:\n",
    "            dic['greater_than_2'] = 1\n",
    "        else:\n",
    "            dic['greater_than_2'] = 0\n",
    "\n",
    "        if 'tag is_see_free ' in tag:\n",
    "            dic['see_anytime'] = 1\n",
    "        else:\n",
    "            dic['see_anytime'] = 0\n",
    "\n",
    "        if 'tag taxfree ' in tag:\n",
    "            dic['greater_than_5'] = 1\n",
    "        else:\n",
    "            dic['greater_than_5'] = 0\n",
    "    \n",
    "    \n",
    "    dic = {}\n",
    "    dic['id'] = retrieve(page.xpath('//div[@class=\"houseRecord\"]/span[2]/text()'))\n",
    "    dic['title'] = retrieve(page.xpath('//h1[@class=\"main\"]/@title'))\n",
    "    dic['watch'] = retrieve(page.xpath(\"//span[@id='favCount']/text()\"))\n",
    "    dic['total_price'] = retrieve(page.xpath('//div[@class=\"price \"]/span[1]/text()'))\n",
    "    dic['unit_price'] = retrieve(page.xpath('//div[@class=\"unitPrice\"]/span/text()'))\n",
    "    dic['community'] = retrieve(page.xpath('//div[@class=\"communityName\"]/a[1]/text()'))\n",
    "    dic['community_id'] = retrieve(page.xpath('//div[@class=\"communityName\"]/a[1]/@href')).split('/')[-2]\n",
    "    dic['district'] = retrieve(page.xpath('//div[@class=\"areaName\"]/span[2]/a[1]/text()'))\n",
    "    dic['addr'] = retrieve(page.xpath('//div[@class=\"areaName\"]/span[2]/a[2]/text()'))\n",
    "    dic['addr_desc'] = retrieve(page.xpath('//div[@class=\"areaName\"]/a/text()'))\n",
    "    dic['visit_time'] = retrieve(page.xpath('//div[@class=\"visitTime\"]/span[2]/text()'))\n",
    "    dic['floor_place'] = retrieve(page.xpath('//div[@class=\"base\"]/div[2]/ul/li[1]/text()'))\n",
    "    dic['floor'] = retrieve(page.xpath('//div[@class=\"base\"]/div[2]/ul/li[2]/text()'))\n",
    "    dic['area'] = retrieve(page.xpath('//div[@class=\"base\"]/div[2]/ul/li[3]/text()'))\n",
    "    dic['floor_structure'] = retrieve(page.xpath('//div[@class=\"base\"]/div[2]/ul/li[4]/text()'))\n",
    "    dic['area_inside'] = retrieve(page.xpath('//div[@class=\"base\"]/div[2]/ul/li[5]/text()'))\n",
    "    dic['building_type'] = retrieve(page.xpath('//div[@class=\"base\"]/div[2]/ul/li[6]/text()'))\n",
    "    dic['facing'] = retrieve(page.xpath('//div[@class=\"base\"]/div[2]/ul/li[7]/text()'))\n",
    "    dic['building_structure'] = retrieve(page.xpath('//div[@class=\"base\"]/div[2]/ul/li[8]/text()'))\n",
    "    dic['decoration'] = retrieve(page.xpath('//div[@class=\"base\"]/div[2]/ul/li[9]/text()'))\n",
    "    dic['stair_to_rooms'] = dic['area_inside'] = retrieve(page.xpath('//div[@class=\"base\"]/div[2]/ul/li[10]/text()'))\n",
    "    dic['elevator'] = dic['area_inside'] = retrieve(page.xpath('//div[@class=\"base\"]/div[2]/ul/li[11]/text()'))\n",
    "    dic['property_duration'] = retrieve(page.xpath('//div[@class=\"base\"]/div[2]/ul/li[12]/text()'))\n",
    "    dic['list_time'] = retrieve(page.xpath('//div[@class=\"transaction\"]/div[2]/ul/li[1]/span[2]/text()'))\n",
    "    dic['property_type'] = retrieve(page.xpath('//div[@class=\"transaction\"]/div[2]/ul/li[2]/span[2]/text()'))\n",
    "    dic['last_transaction'] = retrieve(page.xpath('//div[@class=\"transaction\"]/div[2]/ul/li[3]/span[2]/text()'))\n",
    "    dic['property_usage'] = retrieve(page.xpath('//div[@class=\"transaction\"]/div[2]/ul/li[4]/span[2]/text()'))\n",
    "    dic['owned_duration'] = retrieve(page.xpath('//div[@class=\"transaction\"]/div[2]/ul/li[5]/span[2]/text()'))\n",
    "    dic['property_owner_type'] = retrieve(page.xpath('//div[@class=\"transaction\"]/div[2]/ul/li[6]/span[2]/text()'))\n",
    "    dic['mortgage'] = retrieve(page.xpath('//div[@class=\"transaction\"]/div[2]/ul/li[7]/span[2]/@title'))\n",
    "    dic['certificate_photo'] = retrieve(page.xpath('//div[@class=\"transaction\"]/div[2]/ul/li[8]/span[2]/text()'))\n",
    "    \n",
    "    tag = page.xpath(\"//div[@class='tags clear']/div[2]/a/@class\")\n",
    "    parse_tag(dic, tag)\n",
    "    \n",
    "    desc = retrieve(page.xpath(\"//div[@class='baseattribute clear']/div[text() = '周边配套']/following-sibling::*/text()\"))\n",
    "    if desc is not None:\n",
    "        dic['surrounding_desc'] = desc.strip()\n",
    "    else:\n",
    "        dic['surrounding_desc'] = ''\n",
    "        \n",
    "    desc = retrieve(page.xpath(\"//div[@class='baseattribute clear']/div[text() = '小区介绍']/following-sibling::*/text()\"))\n",
    "    if desc is not None:\n",
    "        dic['community_desc'] = desc.strip()\n",
    "    else:\n",
    "        dic['community_desc'] = ''\n",
    "        \n",
    "    desc = retrieve(page.xpath(\"//div[@class='baseattribute clear']/div[text() = '户型介绍']/following-sibling::*/text()\"))\n",
    "    if desc is not None:\n",
    "        dic['floor_desc'] = desc.strip()\n",
    "    else:\n",
    "        dic['floor_desc'] = ''\n",
    "        \n",
    "    desc = retrieve(page.xpath(\"//div[@class='baseattribute clear']/div[text() = '核心卖点']/following-sibling::*/text()\"))\n",
    "    if desc is not None:\n",
    "        dic['selling_desc'] = desc.strip()\n",
    "    else:\n",
    "        dic['selling_desc'] = ''\n",
    "        \n",
    "    desc = retrieve(page.xpath(\"//div[@class='baseattribute clear']/div[text() = '交通出行']/following-sibling::*/text()\"))\n",
    "    if desc is not None:\n",
    "        dic['commute_desc'] = desc.strip()\n",
    "    else:\n",
    "        dic['commute_desc'] = ''\n",
    "        \n",
    "    floor_detail = []\n",
    "    for i in page2.xpath(\"//div[@id='infoList']/div\"):\n",
    "        floor_detail.append('/'.join(i.xpath('./div/text()')))\n",
    "    dic['floor_detail'] = ','.join(floor_detail)\n",
    "    \n",
    "    return dic"
   ]
  },
  {
   "cell_type": "code",
   "execution_count": 249,
   "metadata": {},
   "outputs": [
    {
     "data": {
      "text/plain": [
       "{'id': '105102698194',\n",
       " 'title': '此房满五唯一，红本在手，税费少',\n",
       " 'watch': '3',\n",
       " 'total_price': '280',\n",
       " 'unit_price': '63855',\n",
       " 'community': '合正锦湖魅力城',\n",
       " 'community_id': '2411048483183',\n",
       " 'district': '罗湖区',\n",
       " 'addr': '洪湖',\n",
       " 'addr_desc': '近7号线洪湖站',\n",
       " 'visit_time': '有租户需要预约',\n",
       " 'floor_place': '1室1厅1厨1卫',\n",
       " 'floor': '中楼层 (共31层)',\n",
       " 'area': '43.85㎡',\n",
       " 'floor_structure': '平层',\n",
       " 'area_inside': '有',\n",
       " 'building_type': '塔楼',\n",
       " 'facing': '东南',\n",
       " 'building_structure': '钢混结构',\n",
       " 'decoration': '精装',\n",
       " 'stair_to_rooms': '三梯十二户',\n",
       " 'elevator': '有',\n",
       " 'property_duration': '70年',\n",
       " 'list_time': '2019-07-17',\n",
       " 'property_type': '商品房',\n",
       " 'last_transaction': '2011-01-19',\n",
       " 'property_usage': '普通住宅',\n",
       " 'owned_duration': '满五年',\n",
       " 'property_owner_type': '非共有',\n",
       " 'mortgage': '有抵押 60万元',\n",
       " 'certificate_photo': '已上传房本照片',\n",
       " 'near_subway': 1,\n",
       " 'good': 0,\n",
       " 'vr': 1,\n",
       " 'greater_than_2': 0,\n",
       " 'see_anytime': 0,\n",
       " 'greater_than_5': 1,\n",
       " 'surrounding_desc': '配套很齐全，自身的物业就已经很完善了，楼下就是华润超市，健身房，美食街，发廊，年代酒吧，各种小吃，还有儿童乐园，老年人活动点。小区正面是儿童公园，侧面是洪湖公园，斜面是人民公园，属于双地铁三公园小区。出行方便，环境优美。',\n",
       " 'community_desc': '东门合正锦湖魅力城是2008年小区，带空中花园，有游泳池，环境安静，东门洪湖较新小区，电梯，总共5栋，配套齐全，双地铁2000米距离，儿童公园，洪湖公园.',\n",
       " 'floor_desc': '',\n",
       " 'selling_desc': '此房满五唯一，红本在手，税费少',\n",
       " 'commute_desc': '属罗湖区洪湖东门片区，位于笋岗东路与文锦北路交汇处西北角，东邻翠竹田贝商圈，西邻洪湖公园、南儿童公园及东门片区。路网发达，有贯穿东西的笋岗路、泥岗路，以及连接南北的文锦路，使得项目西往福田、南往火车站',\n",
       " 'floor_detail': '客厅/17.24平米/无/未知窗户类型,卧室/12.83平米/无/未知窗户类型,厨房/4.13平米/无/未知窗户类型,卫生间/4.16平米/无/未知窗户类型'}"
      ]
     },
     "execution_count": 249,
     "metadata": {},
     "output_type": "execute_result"
    }
   ],
   "source": [
    "parse_detail(page2)"
   ]
  },
  {
   "cell_type": "code",
   "execution_count": 207,
   "metadata": {},
   "outputs": [
    {
     "data": {
      "text/plain": [
       "'\\n                    \\n配套很齐全，自身的物业就已经很完善了，楼下就是华润超市，健身房，美食街，发廊，年代酒吧，各种小吃，还有儿童乐园，老年人活动点。小区正面是儿童公园，侧面是洪湖公园，斜面是人民公园，属于双地铁三公园小区。出行方便，环境优美。\\n                  '"
      ]
     },
     "execution_count": 207,
     "metadata": {},
     "output_type": "execute_result"
    }
   ],
   "source": [
    "retrieve(page2.xpath(\"//div[@class='baseattribute clear']/div[text() = '周边配套']/following-sibling::*/text()\"))"
   ]
  },
  {
   "cell_type": "code",
   "execution_count": 245,
   "metadata": {},
   "outputs": [
    {
     "data": {
      "text/plain": [
       "['3']"
      ]
     },
     "execution_count": 245,
     "metadata": {},
     "output_type": "execute_result"
    }
   ],
   "source": [
    "page2.xpath(\"//span[@id='favCount']/text()\")"
   ]
  },
  {
   "cell_type": "code",
   "execution_count": 165,
   "metadata": {},
   "outputs": [],
   "source": [
    "def parse_tag(dic, tag):\n",
    "    if 'tag is_near_subway ' in tag:\n",
    "        dic['near_subway'] = 1\n",
    "    else:\n",
    "        dic['near_subway'] = 0\n",
    "        \n",
    "    if 'tag good CLICKDATA VIEWDATA' in tag:\n",
    "        dic['good'] = 1\n",
    "    else:\n",
    "        dic['good'] = 0\n",
    "        \n",
    "    if 'tag vr ' in tag:\n",
    "        dic['vr'] = 1\n",
    "    else:\n",
    "        dic['vr'] = 0\n",
    "    \n",
    "    if 'tag five ' in tag:\n",
    "        dic['greater_than_2'] = 1\n",
    "    else:\n",
    "        dic['greater_than_2'] = 0\n",
    "        \n",
    "    if 'tag is_see_free ' in tag:\n",
    "        dic['see_anytime'] = 1\n",
    "    else:\n",
    "        dic['see_anytime'] = 0\n",
    "    \n",
    "    if 'tag tax_free ' in tag:\n",
    "        dic['greater_than_5'] = 1\n",
    "    else:\n",
    "        dic['greater_than_5'] = 0\n",
    "    \n",
    "        \n",
    "        \n",
    "    tag_dict = {\n",
    "        'tag is_near_subway ': '近地铁',\n",
    "        'tag good CLICKDATA VIEWDATA': ''\n",
    "    }"
   ]
  },
  {
   "cell_type": "code",
   "execution_count": null,
   "metadata": {},
   "outputs": [],
   "source": []
  }
 ],
 "metadata": {
  "kernelspec": {
   "display_name": "Python 3",
   "language": "python",
   "name": "python3"
  },
  "language_info": {
   "codemirror_mode": {
    "name": "ipython",
    "version": 3
   },
   "file_extension": ".py",
   "mimetype": "text/x-python",
   "name": "python",
   "nbconvert_exporter": "python",
   "pygments_lexer": "ipython3",
   "version": "3.6.2"
  }
 },
 "nbformat": 4,
 "nbformat_minor": 2
}

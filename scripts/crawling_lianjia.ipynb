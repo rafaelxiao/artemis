{
 "cells": [
  {
   "cell_type": "code",
   "execution_count": 1,
   "metadata": {
    "collapsed": true
   },
   "outputs": [],
   "source": [
    "import numpy as np\n",
    "import time\n",
    "import pandas as pd\n",
    "import requests\n",
    "from lxml import etree\n",
    "from tqdm import tqdm_notebook as tqdm\n",
    "import warnings\n",
    "import time\n",
    "import random\n",
    "import os\n",
    "import json\n",
    "import hashlib\n",
    "warnings.filterwarnings('ignore')\n",
    "import matplotlib.pyplot as plt"
   ]
  },
  {
   "cell_type": "code",
   "execution_count": 2,
   "metadata": {
    "collapsed": true
   },
   "outputs": [],
   "source": [
    "# Utilities\n",
    "\n",
    "def list_url(page):\n",
    "    return 'https://sz.lianjia.com/ershoufang/pg{}/'.format(str(page))\n",
    "\n",
    "def detail_url(idx):\n",
    "    return 'https://sz.lianjia.com/ershoufang/{}.html'.format(str(idx))\n",
    "\n",
    "def res_detail_url(idx):\n",
    "    return 'https://sz.lianjia.com/xiaoqu/{}/'.format(str(idx))\n",
    "\n",
    "def random_sleep(max_sleep=3, min_sleep=0.2):\n",
    "    time.sleep(min_sleep + random.random() * max_sleep)\n",
    "    \n",
    "def make_header():\n",
    "    user_agent = [\n",
    "        'Mozilla/5.0 (Macintosh; Intel Mac OS X 10_12_6) AppleWebKit/537.36 (KHTML, like Gecko) Chrome/61.0.3163.100 Safari/537.36',\n",
    "        'Mozilla/5.0 (Windows NT 6.1; WOW64) AppleWebKit/537.36 (KHTML, like Gecko) Chrome/39.0.2171.95 Safari/537.36 OPR/26.0.1656.60',\n",
    "        'Mozilla/5.0 (Windows NT 5.1; U; en; rv:1.8.1) Gecko/20061208 Firefox/2.0.0 Opera 9.50',\n",
    "        'Mozilla/4.0 (compatible; MSIE 6.0; Windows NT 5.1; en) Opera 9.50',\n",
    "        'Mozilla/5.0 (Windows NT 6.1; WOW64; rv:34.0) Gecko/20100101 Firefox/34.0',\n",
    "        'Mozilla/5.0 (X11; U; Linux x86_64; zh-CN; rv:1.9.2.10) Gecko/20100922 Ubuntu/10.10 (maverick) Firefox/3.6.10',\n",
    "        'Mozilla/5.0 (Windows NT 6.1; WOW64) AppleWebKit/534.57.2 (KHTML, like Gecko) Version/5.1.7 Safari/534.57.2',\n",
    "        'Mozilla/5.0 (Windows NT 6.1; WOW64) AppleWebKit/537.36 (KHTML, like Gecko) Chrome/39.0.2171.71 Safari/537.36',\n",
    "        'Mozilla/5.0 (X11; Linux x86_64) AppleWebKit/537.11 (KHTML, like Gecko) Chrome/23.0.1271.64 Safari/537.11',\n",
    "        'Mozilla/5.0 (Windows; U; Windows NT 6.1; en-US) AppleWebKit/534.16 (KHTML, like Gecko) Chrome/10.0.648.133 Safari/534.16',\n",
    "        'Mozilla/5.0 (Windows NT 6.1; WOW64) AppleWebKit/537.36 (KHTML, like Gecko) Chrome/30.0.1599.101 Safari/537.36',\n",
    "        'Mozilla/5.0 (Windows NT 6.1; WOW64; Trident/7.0; rv:11.0) like Gecko',\n",
    "        'Mozilla/5.0 (Windows NT 6.1; WOW64) AppleWebKit/537.1 (KHTML, like Gecko) Chrome/21.0.1180.71 Safari/537.1 LBBROWSER',\n",
    "        'Mozilla/5.0 (compatible; MSIE 9.0; Windows NT 6.1; WOW64; Trident/5.0; SLCC2; .NET CLR 2.0.50727; .NET CLR 3.5.30729; .NET CLR 3.0.30729; Media Center PC 6.0; .NET4.0C; .NET4.0E; LBBROWSER)',\n",
    "        'Mozilla/5.0 (compatible; MSIE 9.0; Windows NT 6.1; WOW64; Trident/5.0; SLCC2; .NET CLR 2.0.50727; .NET CLR 3.5.30729; .NET CLR 3.0.30729; Media Center PC 6.0; .NET4.0C; .NET4.0E; QQBrowser/7.0.3698.400)',\n",
    "        'Mozilla/4.0 (compatible; MSIE 6.0; Windows NT 5.1; SV1; QQDownload 732; .NET4.0C; .NET4.0E)',\n",
    "        'Mozilla/5.0 (Windows NT 5.1) AppleWebKit/535.11 (KHTML, like Gecko) Chrome/17.0.963.84 Safari/535.11 SE 2.X MetaSr 1.0',\n",
    "        'Mozilla/4.0 (compatible; MSIE 7.0; Windows NT 5.1; Trident/4.0; SV1; QQDownload 732; .NET4.0C; .NET4.0E; SE 2.X MetaSr 1.0)',\n",
    "    ]\n",
    "    return {'user-agent': random.choice(user_agent)}\n",
    "\n",
    "def get_page(url):\n",
    "    header = make_header()\n",
    "    r = requests.get(url=url, verify=False, headers=header)\n",
    "    if r.status_code == 200:\n",
    "        return etree.HTML(r.text)\n",
    "    else:\n",
    "        print(r.status_code)"
   ]
  },
  {
   "cell_type": "code",
   "execution_count": 111,
   "metadata": {
    "collapsed": true
   },
   "outputs": [],
   "source": [
    "def parse_main(page: etree._Element):\n",
    "    df = pd.DataFrame()\n",
    "    \n",
    "    df['house_id'] = page.xpath(\"//div[@class='info clear']//div[@class='title']/a/@data-housecode\")\n",
    "    df['title'] = page.xpath(\"//div[@class='info clear']//div[@class='title']/a/text()\")\n",
    "    df['addr_1'] = page.xpath(\"//div[@class='info clear']//div[@class='positionInfo']//a[1]/text()\")\n",
    "    df['addr_2'] = page.xpath(\"//div[@class='info clear']//div[@class='positionInfo']//a[2]/text()\")\n",
    "\n",
    "    floor = []\n",
    "    area = []\n",
    "    direction = []\n",
    "    deco = []\n",
    "    height = []\n",
    "    age = []\n",
    "    typ = []\n",
    "    for i in page.xpath(\"//div[@class='info clear']//div[@class='houseInfo']/text()\"):\n",
    "        text = i.split('|')\n",
    "        text = [t.strip() for t in text]\n",
    "        floor.append(text[0])\n",
    "        area.append(text[1])\n",
    "        direction.append(text[2])\n",
    "        deco.append(text[3])\n",
    "        height.append(text[4])\n",
    "        age.append(text[5])\n",
    "        typ.append(text[6])\n",
    "    \n",
    "    df['floor_plan'] = floor\n",
    "    df['area'] = area\n",
    "    df['direction'] = direction\n",
    "    df['decoration'] = deco\n",
    "    df['height'] = height\n",
    "    df['age'] = age\n",
    "    df['type'] = typ\n",
    "    del floor, area, direction, deco, height, age, typ\n",
    "\n",
    "    watch = []\n",
    "    list_time = []\n",
    "    for i in page.xpath(\"//div[@class='info clear']//div[@class='followInfo']/text()\"):\n",
    "        text = i.split('/')\n",
    "        text = [t.strip() for t in text]\n",
    "        watch.append(text[0])\n",
    "        list_time.append(text[1])\n",
    "\n",
    "    df['watch'] = watch\n",
    "    df['list_time'] = list_time\n",
    "    \n",
    "    del watch, list_time\n",
    "\n",
    "    df['total_price'] = page.xpath(\"//div[@class='info clear']//div[@class='totalPrice']/span/text()\")\n",
    "    df['unit_price'] = page.xpath(\"//div[@class='info clear']//div[@class='unitPrice']/@data-price\")\n",
    "\n",
    "    tags = []\n",
    "    for i in page.xpath(\"//div[@class='info clear']//div[@class='tag']\"):\n",
    "        tags.append(','.join(i.xpath('./span/text()')))\n",
    "        \n",
    "    df['tags'] = tags\n",
    "    \n",
    "    return df"
   ]
  },
  {
   "cell_type": "code",
   "execution_count": 4,
   "metadata": {
    "collapsed": false
   },
   "outputs": [],
   "source": [
    "# The function to crawl the version of only the list\n",
    "def crawl_main(num_its=100, sleep=3, folder='save'):\n",
    "    if folder not in os.listdir():\n",
    "        os.mkdir(folder)\n",
    "\n",
    "    error_counts = 0\n",
    "    for i in tqdm(range(1, num_its+1)):\n",
    "        if error_counts <=100:\n",
    "            try:\n",
    "                page = get_page(list_url(i))\n",
    "                parse_main(page).to_pickle('save/{0}.pkl'.format(str(i)), protocol = -1)\n",
    "                random_sleep(sleep)\n",
    "            except:\n",
    "                error_counts += 1\n",
    "                pass\n",
    "        else:\n",
    "            break\n",
    "    print('Done')\n",
    "\n",
    "\n",
    "# Load the result when only crawl the list\n",
    "def load_result(path):\n",
    "    \n",
    "    def parse_list_time(x):\n",
    "        try:\n",
    "            if '天' in x:\n",
    "                return np.int(x[:x.index('天')])\n",
    "            elif '月' in x:\n",
    "                return np.int(x[:x.index('月')-1]) * 30\n",
    "            else:\n",
    "                return 365\n",
    "        except:\n",
    "            return -999\n",
    "        \n",
    "    res = []\n",
    "    for i in os.listdir('save'):\n",
    "        res.append(pd.read_pickle('save/{0}'.format(str(i))))\n",
    "    df = pd.concat(res, axis=0).reset_index(drop=True)\n",
    "    df['total_price'] = df['total_price'].astype(float)\n",
    "    df['unit_price'] = df['unit_price'].astype(float)\n",
    "    df['area'] = df['area'].apply(lambda x: x[:x.index('平')]).astype(float)\n",
    "    df['age'] = df['age'].apply(lambda x: x[:x.index('年')] if '年' in x else -999)\n",
    "#     df['area'] = df['area'].apply(lambda x: x[:x.index('平')]).astype(float)\n",
    "#     df['age'] = df['age'].apply(lambda x: x[:x.index('年')]).astype(int)\n",
    "#     df['watch'] = df['watch'].apply(lambda x: x[:x.index('人')]).astype(int)\n",
    "    df['list_time'] = df['list_time'].apply(parse_list_time)\n",
    "    \n",
    "    return df"
   ]
  },
  {
   "cell_type": "code",
   "execution_count": 5,
   "metadata": {
    "collapsed": false
   },
   "outputs": [],
   "source": [
    "import mysql.connector"
   ]
  },
  {
   "cell_type": "code",
   "execution_count": 25,
   "metadata": {
    "collapsed": false
   },
   "outputs": [],
   "source": [
    "mydb = mysql.connector.connect(\n",
    "    host=\"localhost\",\n",
    "    user=\"root\",\n",
    "    passwd=\"thinker\",\n",
    "    database=\"lianjia\"\n",
    ")\n",
    "cursor = mydb.cursor()"
   ]
  },
  {
   "cell_type": "code",
   "execution_count": 73,
   "metadata": {
    "collapsed": true
   },
   "outputs": [],
   "source": [
    "cursor.execute('DROP Table test')"
   ]
  },
  {
   "cell_type": "code",
   "execution_count": 74,
   "metadata": {
    "collapsed": false
   },
   "outputs": [],
   "source": [
    "cursor.execute('CREATE Table test (id INT AUTO_INCREMENT PRIMARY KEY, name VARCHAR(255), address VARCHAR(255))')"
   ]
  },
  {
   "cell_type": "code",
   "execution_count": 138,
   "metadata": {
    "collapsed": false
   },
   "outputs": [],
   "source": [
    "# Create table\n",
    "# cursor.execute('DROP Table house')\n",
    "long_chars = ['addr_desc', 'community_desc', 'floor_desc', 'floor_detail', 'selling_desc', 'surrounding_desc']\n",
    "short_chars = [i for i in dic if i not in long_chars]\n",
    "sql = 'CREATE Table house (id INT AUTO_INCREMENT PRIMARY KEY, '\n",
    "sql += ', '.join([\"%s VARCHAR(255)\"%i for i in short_chars])\n",
    "sql += ', '\n",
    "sql += ', '.join([\"%s TEXT(4096)\"%i for i in long_chars])\n",
    "sql += ')'"
   ]
  },
  {
   "cell_type": "code",
   "execution_count": 141,
   "metadata": {
    "collapsed": false
   },
   "outputs": [],
   "source": [
    "cursor.execute('SHOW TABLES')"
   ]
  },
  {
   "cell_type": "code",
   "execution_count": 143,
   "metadata": {
    "collapsed": false
   },
   "outputs": [
    {
     "name": "stdout",
     "output_type": "stream",
     "text": [
      "('house',)\n",
      "('test',)\n"
     ]
    }
   ],
   "source": [
    "for i in cursor:\n",
    "    print(i)"
   ]
  },
  {
   "cell_type": "code",
   "execution_count": 165,
   "metadata": {
    "collapsed": false
   },
   "outputs": [],
   "source": [
    "dic = parse_detail(page)"
   ]
  },
  {
   "cell_type": "code",
   "execution_count": 148,
   "metadata": {
    "collapsed": false
   },
   "outputs": [
    {
     "data": {
      "text/plain": [
       "'%s, %s, %s, %s, %s, %s, %s, %s, %s, %s, %s, %s, %s, %s, %s, %s, %s, %s, %s, %s, %s, %s, %s, %s, %s, %s, %s, %s, %s, %s, %s, %s, %s, %s, %s, %s, %s, %s, %s, %s, %s, %s, %s, %s'"
      ]
     },
     "execution_count": 148,
     "metadata": {},
     "output_type": "execute_result"
    }
   ],
   "source": [
    "', '.join('%s' for i in range(len(short_chars + long_chars)))"
   ]
  },
  {
   "cell_type": "code",
   "execution_count": 172,
   "metadata": {
    "collapsed": false
   },
   "outputs": [
    {
     "data": {
      "text/plain": [
       "44"
      ]
     },
     "execution_count": 172,
     "metadata": {},
     "output_type": "execute_result"
    }
   ],
   "source": [
    "len(val)"
   ]
  },
  {
   "cell_type": "code",
   "execution_count": 171,
   "metadata": {
    "collapsed": false
   },
   "outputs": [
    {
     "data": {
      "text/plain": [
       "'INSERT INTO house (pull_off, house_id, watch, community, district, addr, visit_time, floor_place, floor, area, floor_structure, area_inside, building_type, facing, building_structure, decoration, stair_to_rooms, elevator, property_duration, list_time, property_type, last_transaction, property_usage, owned_duration, property_owner_type, mortgage, certificate_photo, near_subway, good, vr, greater_than_2, see_anytime, greater_than_5, commute_desc, community_id, position, total_price, unit_price, addr_desc, community_desc, floor_desc, floor_detail, selling_desc, surrounding_desc) VALUES (%s, %s, %s, %s, %s, %s, %s, %s, %s, %s, %s, %s, %s, %s, %s, %s, %s, %s, %s, %s, %s, %s, %s, %s, %s, %s, %s, %s, %s, %s, %s, %s, %s, %s, %s, %s, %s, %s, %s, %s, %s, %s, %s, %s)'"
      ]
     },
     "execution_count": 171,
     "metadata": {},
     "output_type": "execute_result"
    }
   ],
   "source": [
    "sql"
   ]
  },
  {
   "cell_type": "code",
   "execution_count": 182,
   "metadata": {
    "collapsed": false
   },
   "outputs": [],
   "source": [
    "def insert_house_info(dic, cursor):\n",
    "    sql = 'INSERT INTO house (%s) VALUES (%s)'%(\n",
    "        ', '.join(short_chars + long_chars),\n",
    "        ', '.join('%s' for i in range(len(short_chars + long_chars)))\n",
    "    )\n",
    "    val = [dic[i] for i in short_chars + long_chars]\n",
    "    cursor.execute(sql, val)"
   ]
  },
  {
   "cell_type": "code",
   "execution_count": 188,
   "metadata": {
    "collapsed": true
   },
   "outputs": [],
   "source": [
    "dic"
   ]
  },
  {
   "cell_type": "code",
   "execution_count": 189,
   "metadata": {
    "collapsed": true
   },
   "outputs": [],
   "source": [
    "dic = parse_detail(page2)"
   ]
  },
  {
   "cell_type": "code",
   "execution_count": 190,
   "metadata": {
    "collapsed": false
   },
   "outputs": [],
   "source": [
    "insert_house_info(dic, cursor)"
   ]
  },
  {
   "cell_type": "code",
   "execution_count": 191,
   "metadata": {
    "collapsed": false
   },
   "outputs": [
    {
     "data": {
      "text/plain": [
       "[('105103008595',), ('105102437021',), ('105102437021',)]"
      ]
     },
     "execution_count": 191,
     "metadata": {},
     "output_type": "execute_result"
    }
   ],
   "source": [
    "cursor.execute('SELECT house_id FROM house')\n",
    "cursor.fetchall()"
   ]
  },
  {
   "cell_type": "code",
   "execution_count": 75,
   "metadata": {
    "collapsed": false
   },
   "outputs": [],
   "source": [
    "sql = 'INSERT INTO house (name, address) VALUES (%s, %s)'\n",
    "val = [\n",
    "    ('John', 'Highway 21'),\n",
    "    ('Mic', 'Below'),\n",
    "    ('Seb', 'Sea')\n",
    "]\n",
    "\n",
    "cursor.executemany(sql, val)"
   ]
  },
  {
   "cell_type": "code",
   "execution_count": 36,
   "metadata": {
    "collapsed": false
   },
   "outputs": [],
   "source": [
    "cursor.execute('SHOW TABLES')"
   ]
  },
  {
   "cell_type": "code",
   "execution_count": 77,
   "metadata": {
    "collapsed": true
   },
   "outputs": [],
   "source": [
    "mydb.commit()"
   ]
  },
  {
   "cell_type": "code",
   "execution_count": 86,
   "metadata": {
    "collapsed": false
   },
   "outputs": [],
   "source": [
    "cursor.execute('SELECT * FROM test')"
   ]
  },
  {
   "cell_type": "code",
   "execution_count": 87,
   "metadata": {
    "collapsed": false
   },
   "outputs": [
    {
     "data": {
      "text/plain": [
       "[(1, 'John', 'Highway 21'), (2, 'Mic', 'Below'), (3, 'Seb', 'Sea')]"
      ]
     },
     "execution_count": 87,
     "metadata": {},
     "output_type": "execute_result"
    }
   ],
   "source": [
    "cursor.fe()"
   ]
  },
  {
   "cell_type": "code",
   "execution_count": 81,
   "metadata": {
    "collapsed": false
   },
   "outputs": [
    {
     "name": "stdout",
     "output_type": "stream",
     "text": [
      "(1, 'John', 'Highway 21')\n",
      "(2, 'Mic', 'Below')\n",
      "(3, 'Seb', 'Sea')\n"
     ]
    }
   ],
   "source": [
    "for i in cursor:\n",
    "    print(i)"
   ]
  },
  {
   "cell_type": "code",
   "execution_count": 83,
   "metadata": {
    "collapsed": false
   },
   "outputs": [],
   "source": [
    "df = load_result('save')"
   ]
  },
  {
   "cell_type": "code",
   "execution_count": 91,
   "metadata": {
    "collapsed": true
   },
   "outputs": [],
   "source": [
    "page = get_page(detail_url('105103008595')) # normal\n",
    "page2 = get_page(detail_url('105102437021')) # cancel\n",
    "page3 = get_page(detail_url('105102531126')) # deal"
   ]
  },
  {
   "cell_type": "code",
   "execution_count": 207,
   "metadata": {
    "collapsed": true
   },
   "outputs": [],
   "source": [
    "def parse_list(page: etree._Element):\n",
    "    return page.xpath(\"//div[@class='info clear']//div[@class='title']/a/@data-housecode\")"
   ]
  },
  {
   "cell_type": "code",
   "execution_count": 45,
   "metadata": {
    "collapsed": true
   },
   "outputs": [],
   "source": [
    "page4 = get_page(res_detail_url('2411048613833'))"
   ]
  },
  {
   "cell_type": "code",
   "execution_count": 46,
   "metadata": {
    "collapsed": false
   },
   "outputs": [
    {
     "data": {
      "text/plain": [
       "<Element html at 0x1fba106dfc8>"
      ]
     },
     "execution_count": 46,
     "metadata": {},
     "output_type": "execute_result"
    }
   ],
   "source": [
    "page4"
   ]
  },
  {
   "cell_type": "code",
   "execution_count": 199,
   "metadata": {
    "collapsed": false
   },
   "outputs": [],
   "source": []
  },
  {
   "cell_type": "code",
   "execution_count": 201,
   "metadata": {
    "collapsed": false
   },
   "outputs": [
    {
     "data": {
      "text/plain": [
       "'9d0ff0493c7c962b1c48fe7fb38929fd'"
      ]
     },
     "execution_count": 201,
     "metadata": {},
     "output_type": "execute_result"
    }
   ],
   "source": [
    "hash_dic(dic)"
   ]
  },
  {
   "cell_type": "code",
   "execution_count": null,
   "metadata": {
    "collapsed": true
   },
   "outputs": [],
   "source": []
  },
  {
   "cell_type": "code",
   "execution_count": 164,
   "metadata": {
    "collapsed": false
   },
   "outputs": [],
   "source": [
    "def retrieve(lis):\n",
    "    try:\n",
    "        return lis[0]\n",
    "    except:\n",
    "        return None\n",
    "    \n",
    "def extract_str(string, start, finish):\n",
    "    if start in string and finish in string:\n",
    "        idx = string.index(start)\n",
    "        string = string[idx+len(start):]\n",
    "        idx = string.index(finish)\n",
    "        return string[:idx]\n",
    "    else:\n",
    "        return None\n",
    "    \n",
    "def extract_attr(string, attr):\n",
    "    start = attr + ':\\''\n",
    "    finish = '\\''\n",
    "    return extract_str(string, start, finish)\n",
    "\n",
    "def parse_detail(page: etree._Element):\n",
    "    \n",
    "    def parse_tag(dic, tag):\n",
    "        if 'tag is_near_subway ' in tag:\n",
    "            dic['near_subway'] = '1'\n",
    "        else:\n",
    "            dic['near_subway'] = '0'\n",
    "\n",
    "        if 'tag good CLICKDATA VIEWDATA' in tag:\n",
    "            dic['good'] = '1'\n",
    "        else:\n",
    "            dic['good'] = '0'\n",
    "\n",
    "        if 'tag vr ' in tag:\n",
    "            dic['vr'] = '1'\n",
    "        else:\n",
    "            dic['vr'] = '0'\n",
    "\n",
    "        if 'tag five ' in tag:\n",
    "            dic['greater_than_2'] = '1'\n",
    "        else:\n",
    "            dic['greater_than_2'] = '0'\n",
    "\n",
    "        if 'tag is_see_free ' in tag:\n",
    "            dic['see_anytime'] = '1'\n",
    "        else:\n",
    "            dic['see_anytime'] = '0'\n",
    "\n",
    "        if 'tag taxfree ' in tag:\n",
    "            dic['greater_than_5'] = '1'\n",
    "        else:\n",
    "            dic['greater_than_5'] = '0'\n",
    "    \n",
    "    dic = {}\n",
    "    \n",
    "    title = retrieve(page.xpath('//h1[@class=\"main\"]/@title'))\n",
    "    if title is None:\n",
    "        return None\n",
    "    \n",
    "    pull_off = retrieve(page.xpath('//h1[@class=\"main\"]/span/text()'))\n",
    "    if pull_off == '已下架':\n",
    "        dic['pull_off'] = '1'\n",
    "    else:\n",
    "        dic['pull_off'] = '0'\n",
    "\n",
    "    dic['house_id'] = retrieve(page.xpath('//div[@class=\"houseRecord\"]/span[2]/text()'))\n",
    "    dic['watch'] = retrieve(page.xpath(\"//span[@id='favCount']/text()\"))\n",
    "#     dic['total_price'] = retrieve(page.xpath('//div[@class=\"price \"]/span[1]/text()'))\n",
    "#     dic['unit_price'] = retrieve(page.xpath('//div[@class=\"unitPrice\"]/span/text()'))\n",
    "    dic['community'] = retrieve(page.xpath('//div[@class=\"communityName\"]/a[1]/text()'))\n",
    "    dic['district'] = retrieve(page.xpath('//div[@class=\"areaName\"]/span[2]/a[1]/text()'))\n",
    "    dic['addr'] = retrieve(page.xpath('//div[@class=\"areaName\"]/span[2]/a[2]/text()'))\n",
    "    dic['visit_time'] = retrieve(page.xpath('//div[@class=\"visitTime\"]/span[2]/text()'))\n",
    "    dic['floor_place'] = retrieve(page.xpath('//div[@class=\"base\"]/div[2]/ul/li[1]/text()'))\n",
    "    dic['floor'] = retrieve(page.xpath('//div[@class=\"base\"]/div[2]/ul/li[2]/text()'))\n",
    "    dic['area'] = retrieve(page.xpath('//div[@class=\"base\"]/div[2]/ul/li[3]/text()'))\n",
    "    dic['floor_structure'] = retrieve(page.xpath('//div[@class=\"base\"]/div[2]/ul/li[4]/text()'))\n",
    "    dic['area_inside'] = retrieve(page.xpath('//div[@class=\"base\"]/div[2]/ul/li[5]/text()'))\n",
    "    dic['building_type'] = retrieve(page.xpath('//div[@class=\"base\"]/div[2]/ul/li[6]/text()'))\n",
    "    dic['facing'] = retrieve(page.xpath('//div[@class=\"base\"]/div[2]/ul/li[7]/text()'))\n",
    "    dic['building_structure'] = retrieve(page.xpath('//div[@class=\"base\"]/div[2]/ul/li[8]/text()'))\n",
    "    dic['decoration'] = retrieve(page.xpath('//div[@class=\"base\"]/div[2]/ul/li[9]/text()'))\n",
    "    dic['stair_to_rooms'] = retrieve(page.xpath('//div[@class=\"base\"]/div[2]/ul/li[10]/text()'))\n",
    "    dic['elevator'] = retrieve(page.xpath('//div[@class=\"base\"]/div[2]/ul/li[11]/text()'))\n",
    "    dic['property_duration'] = retrieve(page.xpath('//div[@class=\"base\"]/div[2]/ul/li[12]/text()'))\n",
    "    dic['list_time'] = retrieve(page.xpath('//div[@class=\"transaction\"]/div[2]/ul/li[1]/span[2]/text()'))\n",
    "    dic['property_type'] = retrieve(page.xpath('//div[@class=\"transaction\"]/div[2]/ul/li[2]/span[2]/text()'))\n",
    "    dic['last_transaction'] = retrieve(page.xpath('//div[@class=\"transaction\"]/div[2]/ul/li[3]/span[2]/text()'))\n",
    "    dic['property_usage'] = retrieve(page.xpath('//div[@class=\"transaction\"]/div[2]/ul/li[4]/span[2]/text()'))\n",
    "    dic['owned_duration'] = retrieve(page.xpath('//div[@class=\"transaction\"]/div[2]/ul/li[5]/span[2]/text()'))\n",
    "    dic['property_owner_type'] = retrieve(page.xpath('//div[@class=\"transaction\"]/div[2]/ul/li[6]/span[2]/text()'))\n",
    "    dic['mortgage'] = retrieve(page.xpath('//div[@class=\"transaction\"]/div[2]/ul/li[7]/span[2]/@title'))\n",
    "    dic['certificate_photo'] = retrieve(page.xpath('//div[@class=\"transaction\"]/div[2]/ul/li[8]/span[2]/text()'))\n",
    "    \n",
    "    tag = page.xpath(\"//div[@class='tags clear']/div[2]/a/@class\")\n",
    "    parse_tag(dic, tag)\n",
    "    \n",
    "    desc = retrieve(page.xpath(\"//div[@class='baseattribute clear']/div[text() = '周边配套']/following-sibling::*/text()\"))\n",
    "    if desc is not None:\n",
    "        dic['surrounding_desc'] = desc.strip()\n",
    "    else:\n",
    "        dic['surrounding_desc'] = ''\n",
    "        \n",
    "    desc = retrieve(page.xpath(\"//div[@class='baseattribute clear']/div[text() = '小区介绍']/following-sibling::*/text()\"))\n",
    "    if desc is not None:\n",
    "        dic['community_desc'] = desc.strip()\n",
    "    else:\n",
    "        dic['community_desc'] = ''\n",
    "    \n",
    "    desc = retrieve(page.xpath('//div[@class=\"areaName\"]/a/text()'))\n",
    "    if desc is not None:\n",
    "        dic['addr_desc'] = desc\n",
    "    else:\n",
    "        dic['addr_desc'] = ''\n",
    "        \n",
    "    desc = retrieve(page.xpath(\"//div[@class='baseattribute clear']/div[text() = '户型介绍']/following-sibling::*/text()\"))\n",
    "    if desc is not None:\n",
    "        dic['floor_desc'] = desc.strip()\n",
    "    else:\n",
    "        dic['floor_desc'] = ''\n",
    "        \n",
    "    desc = retrieve(page.xpath(\"//div[@class='baseattribute clear']/div[text() = '核心卖点']/following-sibling::*/text()\"))\n",
    "    if desc is not None:\n",
    "        dic['selling_desc'] = desc.strip()\n",
    "    else:\n",
    "        dic['selling_desc'] = ''\n",
    "        \n",
    "    desc = retrieve(page.xpath(\"//div[@class='baseattribute clear']/div[text() = '交通出行']/following-sibling::*/text()\"))\n",
    "    if desc is not None:\n",
    "        dic['commute_desc'] = desc.strip()\n",
    "    else:\n",
    "        dic['commute_desc'] = ''\n",
    "    \n",
    "    community_id = retrieve(page.xpath('//div[@class=\"communityName\"]/a[1]/@href'))\n",
    "    if community_id is not None:\n",
    "        dic['community_id'] = community_id.split('/')[-2]\n",
    "    else:\n",
    "        dic['community_id'] = community_id\n",
    "        \n",
    "    floor_detail = []\n",
    "    for i in page.xpath(\"//div[@id='infoList']/div\"):\n",
    "        floor_detail.append('/'.join(i.xpath('./div/text()')))\n",
    "    dic['floor_detail'] = ','.join(floor_detail)\n",
    "    \n",
    "    txt = page.xpath('//div[@id=\"validate-box\"]/following-sibling::script/text()')[2]\n",
    "    dic['position'] = extract_attr(txt, 'resblockPosition')\n",
    "    dic['total_price'] = extract_attr(txt, 'totalPrice')\n",
    "    dic['unit_price'] = extract_attr(txt, 'price')\n",
    "    \n",
    "    return dic"
   ]
  },
  {
   "cell_type": "code",
   "execution_count": 89,
   "metadata": {
    "collapsed": true
   },
   "outputs": [],
   "source": [
    "def parse_res_detail(page: etree._Element, sleep=0.1):\n",
    "    dic = {}\n",
    "    dic['title'] = retrieve(page.xpath('//h1[@class=\"detailTitle\"]/text()'))\n",
    "    dic['addr1'] = retrieve(page.xpath('//div[@class=\"detailDesc\"]/text()'))\n",
    "    dic['addr2'] = retrieve(page.xpath('//div[@class=\"fl l-txt\"]//a[3]/text()'))\n",
    "    dic['addr3'] = retrieve(page.xpath('//div[@class=\"fl l-txt\"]//a[4]/text()'))\n",
    "    dic['price'] = retrieve(page.xpath('//div[@class=\"xiaoquPrice clear\"]/div/span[1]/text()'))\n",
    "    dic['price_ref'] = retrieve(page.xpath('//div[@class=\"xiaoquPrice clear\"]/div/span[2]/text()'))\n",
    "    dic['age'] = retrieve(page.xpath('//div[@class=\"xiaoquInfo\"]/div[1]/span[2]/text()'))\n",
    "    dic['building_type'] = retrieve(page.xpath('//div[@class=\"xiaoquInfo\"]/div[2]/span[2]/text()'))\n",
    "    dic['management_fee'] = retrieve(page.xpath('//div[@class=\"xiaoquInfo\"]/div[3]/span[2]/text()'))\n",
    "    dic['management_comp'] = retrieve(page.xpath('//div[@class=\"xiaoquInfo\"]/div[4]/span[2]/text()'))\n",
    "    dic['development_comp'] = retrieve(page.xpath('//div[@class=\"xiaoquInfo\"]/div[5]/span[2]/text()'))\n",
    "    dic['num_buildings'] = retrieve(page.xpath('//div[@class=\"xiaoquInfo\"]/div[6]/span[2]/text()'))\n",
    "    dic['num_rooms'] = retrieve(page.xpath('//div[@class=\"xiaoquInfo\"]/div[7]/span[2]/text()'))\n",
    "    dic['watch'] = retrieve(page.xpath('//div[@class=\"followedDesc\"]/span/span/text()'))\n",
    "    \n",
    "    idx = retrieve(page.xpath('//div[@class=\"fl l-txt\"]//a[5]/@href'))\n",
    "    dic['res_id'] = idx\n",
    "    if idx is not None:\n",
    "        idx = idx.split('/')[-2]\n",
    "        random_sleep(sleep)\n",
    "        url = 'https://sz.lianjia.com/xiaoqu/c{}/'.format(idx)\n",
    "        page = get_page(url)\n",
    "        dic['num_selled_in_90'] = retrieve(page.xpath('//div[@class=\"houseInfo\"]/a[1]/text()'))\n",
    "        dic['num_rents'] = retrieve(page.xpath('//div[@class=\"houseInfo\"]/a[2]/text()'))\n",
    "        dic['num_sell'] = retrieve(page.xpath('//a[@class=\"totalSellCount\"]/span/text()'))\n",
    "    else:\n",
    "        dic['num_selled_in_90'] = ''\n",
    "        dic['num_rents'] = ''\n",
    "        dic['num_sell'] = ''\n",
    "\n",
    "    return dic"
   ]
  },
  {
   "cell_type": "code",
   "execution_count": 192,
   "metadata": {
    "collapsed": false
   },
   "outputs": [],
   "source": [
    "dic = parse_res_detail(page4)"
   ]
  },
  {
   "cell_type": "code",
   "execution_count": null,
   "metadata": {
    "collapsed": true
   },
   "outputs": [],
   "source": []
  },
  {
   "cell_type": "code",
   "execution_count": 90,
   "metadata": {
    "collapsed": false
   },
   "outputs": [
    {
     "ename": "NameError",
     "evalue": "name 'page' is not defined",
     "output_type": "error",
     "traceback": [
      "\u001b[0;31m---------------------------------------------------------------------------\u001b[0m",
      "\u001b[0;31mNameError\u001b[0m                                 Traceback (most recent call last)",
      "\u001b[0;32m<ipython-input-90-0743e2073123>\u001b[0m in \u001b[0;36m<module>\u001b[0;34m()\u001b[0m\n\u001b[0;32m----> 1\u001b[0;31m \u001b[0mparse_detail\u001b[0m\u001b[1;33m(\u001b[0m\u001b[0mpage\u001b[0m\u001b[1;33m)\u001b[0m\u001b[1;33m\u001b[0m\u001b[1;33m\u001b[0m\u001b[0m\n\u001b[0m",
      "\u001b[0;31mNameError\u001b[0m: name 'page' is not defined"
     ]
    }
   ],
   "source": [
    "parse_detail(page)"
   ]
  },
  {
   "cell_type": "code",
   "execution_count": 207,
   "metadata": {
    "collapsed": false
   },
   "outputs": [
    {
     "data": {
      "text/plain": [
       "'\\n                    \\n配套很齐全，自身的物业就已经很完善了，楼下就是华润超市，健身房，美食街，发廊，年代酒吧，各种小吃，还有儿童乐园，老年人活动点。小区正面是儿童公园，侧面是洪湖公园，斜面是人民公园，属于双地铁三公园小区。出行方便，环境优美。\\n                  '"
      ]
     },
     "execution_count": 207,
     "metadata": {},
     "output_type": "execute_result"
    }
   ],
   "source": [
    "retrieve(page2.xpath(\"//div[@class='baseattribute clear']/div[text() = '周边配套']/following-sibling::*/text()\"))"
   ]
  },
  {
   "cell_type": "code",
   "execution_count": 245,
   "metadata": {
    "collapsed": false
   },
   "outputs": [
    {
     "data": {
      "text/plain": [
       "['3']"
      ]
     },
     "execution_count": 245,
     "metadata": {},
     "output_type": "execute_result"
    }
   ],
   "source": [
    "page2.xpath(\"//span[@id='favCount']/text()\")"
   ]
  },
  {
   "cell_type": "code",
   "execution_count": 165,
   "metadata": {
    "collapsed": true
   },
   "outputs": [],
   "source": [
    "def parse_tag(dic, tag):\n",
    "    if 'tag is_near_subway ' in tag:\n",
    "        dic['near_subway'] = 1\n",
    "    else:\n",
    "        dic['near_subway'] = 0\n",
    "        \n",
    "    if 'tag good CLICKDATA VIEWDATA' in tag:\n",
    "        dic['good'] = 1\n",
    "    else:\n",
    "        dic['good'] = 0\n",
    "        \n",
    "    if 'tag vr ' in tag:\n",
    "        dic['vr'] = 1\n",
    "    else:\n",
    "        dic['vr'] = 0\n",
    "    \n",
    "    if 'tag five ' in tag:\n",
    "        dic['greater_than_2'] = 1\n",
    "    else:\n",
    "        dic['greater_than_2'] = 0\n",
    "        \n",
    "    if 'tag is_see_free ' in tag:\n",
    "        dic['see_anytime'] = 1\n",
    "    else:\n",
    "        dic['see_anytime'] = 0\n",
    "    \n",
    "    if 'tag tax_free ' in tag:\n",
    "        dic['greater_than_5'] = 1\n",
    "    else:\n",
    "        dic['greater_than_5'] = 0\n",
    "    \n",
    "        \n",
    "        \n",
    "    tag_dict = {\n",
    "        'tag is_near_subway ': '近地铁',\n",
    "        'tag good CLICKDATA VIEWDATA': ''\n",
    "    }"
   ]
  },
  {
   "cell_type": "code",
   "execution_count": null,
   "metadata": {
    "collapsed": true
   },
   "outputs": [],
   "source": []
  }
 ],
 "metadata": {
  "kernelspec": {
   "display_name": "Python 3",
   "language": "python",
   "name": "python3"
  },
  "language_info": {
   "codemirror_mode": {
    "name": "ipython",
    "version": 3
   },
   "file_extension": ".py",
   "mimetype": "text/x-python",
   "name": "python",
   "nbconvert_exporter": "python",
   "pygments_lexer": "ipython3",
   "version": "3.6.7"
  }
 },
 "nbformat": 4,
 "nbformat_minor": 2
}

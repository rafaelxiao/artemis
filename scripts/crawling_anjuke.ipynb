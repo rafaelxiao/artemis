{
 "cells": [
  {
   "cell_type": "code",
   "execution_count": 8,
   "metadata": {
    "collapsed": true
   },
   "outputs": [],
   "source": [
    "import numpy as np\n",
    "import time\n",
    "import pandas as pd\n",
    "import requests\n",
    "from lxml import etree\n",
    "from tqdm import tqdm_notebook as tqdm\n",
    "import warnings\n",
    "import time\n",
    "import random\n",
    "warnings.filterwarnings('ignore')"
   ]
  },
  {
   "cell_type": "code",
   "execution_count": 42,
   "metadata": {
    "collapsed": true
   },
   "outputs": [],
   "source": [
    "# Utilities\n",
    "\n",
    "def list_url(page):\n",
    "    return 'https://shenzhen.anjuke.com/sale/p{}/#filtersort'.format(str(page))\n",
    "\n",
    "def detail_url(idx):\n",
    "    return 'https://shenzhen.anjuke.com/prop/view/{}'.format(str(idx))\n",
    "\n",
    "def random_sleep(max_sleep=3, min_sleep=0.2):\n",
    "    time.sleep(min_sleep + random.random() * max_sleep)\n",
    "    \n",
    "def make_header():\n",
    "    user_agent = [\n",
    "        'Mozilla/5.0 (Macintosh; Intel Mac OS X 10_12_6) AppleWebKit/537.36 (KHTML, like Gecko) Chrome/61.0.3163.100 Safari/537.36',\n",
    "        'Mozilla/5.0 (Windows NT 6.1; WOW64) AppleWebKit/537.36 (KHTML, like Gecko) Chrome/39.0.2171.95 Safari/537.36 OPR/26.0.1656.60',\n",
    "        'Mozilla/5.0 (Windows NT 5.1; U; en; rv:1.8.1) Gecko/20061208 Firefox/2.0.0 Opera 9.50',\n",
    "        'Mozilla/4.0 (compatible; MSIE 6.0; Windows NT 5.1; en) Opera 9.50',\n",
    "        'Mozilla/5.0 (Windows NT 6.1; WOW64; rv:34.0) Gecko/20100101 Firefox/34.0',\n",
    "        'Mozilla/5.0 (X11; U; Linux x86_64; zh-CN; rv:1.9.2.10) Gecko/20100922 Ubuntu/10.10 (maverick) Firefox/3.6.10',\n",
    "        'Mozilla/5.0 (Windows NT 6.1; WOW64) AppleWebKit/534.57.2 (KHTML, like Gecko) Version/5.1.7 Safari/534.57.2',\n",
    "        'Mozilla/5.0 (Windows NT 6.1; WOW64) AppleWebKit/537.36 (KHTML, like Gecko) Chrome/39.0.2171.71 Safari/537.36',\n",
    "        'Mozilla/5.0 (X11; Linux x86_64) AppleWebKit/537.11 (KHTML, like Gecko) Chrome/23.0.1271.64 Safari/537.11',\n",
    "        'Mozilla/5.0 (Windows; U; Windows NT 6.1; en-US) AppleWebKit/534.16 (KHTML, like Gecko) Chrome/10.0.648.133 Safari/534.16',\n",
    "        'Mozilla/5.0 (Windows NT 6.1; WOW64) AppleWebKit/537.36 (KHTML, like Gecko) Chrome/30.0.1599.101 Safari/537.36',\n",
    "        'Mozilla/5.0 (Windows NT 6.1; WOW64; Trident/7.0; rv:11.0) like Gecko',\n",
    "        'Mozilla/5.0 (Windows NT 6.1; WOW64) AppleWebKit/537.1 (KHTML, like Gecko) Chrome/21.0.1180.71 Safari/537.1 LBBROWSER',\n",
    "        'Mozilla/5.0 (compatible; MSIE 9.0; Windows NT 6.1; WOW64; Trident/5.0; SLCC2; .NET CLR 2.0.50727; .NET CLR 3.5.30729; .NET CLR 3.0.30729; Media Center PC 6.0; .NET4.0C; .NET4.0E; LBBROWSER)',\n",
    "        'Mozilla/5.0 (compatible; MSIE 9.0; Windows NT 6.1; WOW64; Trident/5.0; SLCC2; .NET CLR 2.0.50727; .NET CLR 3.5.30729; .NET CLR 3.0.30729; Media Center PC 6.0; .NET4.0C; .NET4.0E; QQBrowser/7.0.3698.400)',\n",
    "        'Mozilla/4.0 (compatible; MSIE 6.0; Windows NT 5.1; SV1; QQDownload 732; .NET4.0C; .NET4.0E)',\n",
    "        'Mozilla/5.0 (Windows NT 5.1) AppleWebKit/535.11 (KHTML, like Gecko) Chrome/17.0.963.84 Safari/535.11 SE 2.X MetaSr 1.0',\n",
    "        'Mozilla/4.0 (compatible; MSIE 7.0; Windows NT 5.1; Trident/4.0; SV1; QQDownload 732; .NET4.0C; .NET4.0E; SE 2.X MetaSr 1.0)',\n",
    "    ]\n",
    "    return {'user-agent': random.choice(user_agent)}\n",
    "\n",
    "def get_page(url):\n",
    "    header = make_header()\n",
    "    r = requests.get(url=url, verify=False, headers=header)\n",
    "    if r.status_code == 200:\n",
    "        return etree.HTML(r.text)\n",
    "    \n",
    "def parse_list(f):"
   ]
  },
  {
   "cell_type": "code",
   "execution_count": 43,
   "metadata": {
    "collapsed": false
   },
   "outputs": [],
   "source": [
    "page = get_page(list_url(2))"
   ]
  },
  {
   "cell_type": "code",
   "execution_count": 44,
   "metadata": {
    "collapsed": false
   },
   "outputs": [
    {
     "data": {
      "text/plain": [
       "<Element html at 0x288683cca88>"
      ]
     },
     "execution_count": 44,
     "metadata": {},
     "output_type": "execute_result"
    }
   ],
   "source": [
    "page"
   ]
  },
  {
   "cell_type": "code",
   "execution_count": 38,
   "metadata": {
    "collapsed": false
   },
   "outputs": [],
   "source": [
    "header = make_header()\n",
    "r = requests.get(url=list_url(2), verify=False, headers=header)"
   ]
  },
  {
   "cell_type": "code",
   "execution_count": 40,
   "metadata": {
    "collapsed": false
   },
   "outputs": [
    {
     "data": {
      "text/plain": [
       "200"
      ]
     },
     "execution_count": 40,
     "metadata": {},
     "output_type": "execute_result"
    }
   ],
   "source": [
    "r.status_code"
   ]
  },
  {
   "cell_type": "code",
   "execution_count": 95,
   "metadata": {
    "collapsed": false
   },
   "outputs": [],
   "source": [
    "titles = page.xpath(\"//div[@class='house-details']//a[@class='houseListTitle ']/@title\")\n",
    "detail_urls = page.xpath(\"//div[@class='house-details']//a[@class='houseListTitle ']/@href\")\n",
    "floor_plan = page.xpath(\"//div[@class='house-details']/div[@class='details-item'][1]/span[1]/text()\")\n",
    "area = page.xpath(\"//div[@class='house-details']/div[@class='details-item'][1]/span[2]/text()\")\n",
    "height = page.xpath(\"//div[@class='house-details']/div[@class='details-item'][1]/span[3]/text()\")\n",
    "age = page.xpath(\"//div[@class='house-details']/div[@class='details-item'][1]/span[4]/text()\")"
   ]
  },
  {
   "cell_type": "code",
   "execution_count": 96,
   "metadata": {
    "collapsed": false
   },
   "outputs": [
    {
     "name": "stdout",
     "output_type": "stream",
     "text": [
      "60\n",
      "60\n",
      "60\n",
      "60\n",
      "60\n",
      "60\n"
     ]
    }
   ],
   "source": [
    "for i in [titles, detail_urls, floor_plan, area, height, age]:\n",
    "    print(len(i))"
   ]
  },
  {
   "cell_type": "code",
   "execution_count": 135,
   "metadata": {
    "collapsed": false
   },
   "outputs": [],
   "source": [
    "community, location = [], []\n",
    "for i in page.xpath(\"//div[@class='house-details']/div[@class='details-item'][2]/span[1]/text()\"):\n",
    "    i = [i for i in i.split(' ') if len(i) > 1]\n",
    "    community.append(i[0].split(\"\\xa0\")[0])\n",
    "    location.append(i[1])"
   ]
  },
  {
   "cell_type": "code",
   "execution_count": 136,
   "metadata": {
    "collapsed": false
   },
   "outputs": [
    {
     "data": {
      "text/plain": [
       "['龙光城',\n",
       " '牧云溪谷',\n",
       " '紫金华府',\n",
       " '福园新村',\n",
       " '正弘林语轩',\n",
       " '万科第五园(一期)',\n",
       " '金泓凯旋城',\n",
       " '俊景豪园',\n",
       " '景龙大厦',\n",
       " '佳兆业盐田城市广场二期',\n",
       " '鸿德园',\n",
       " '现代之窗大厦',\n",
       " '旭景佳园(一期)',\n",
       " '东门天地大厦',\n",
       " '金地龙城中央自在寓',\n",
       " '泰莱雅苑',\n",
       " '星都豪庭',\n",
       " '金色年华家园',\n",
       " '仁恒公园世纪',\n",
       " '东方盛世花园',\n",
       " '潜龙鑫茂花园(C区)',\n",
       " '彩田村',\n",
       " '灵芝园新村',\n",
       " '长城盛世家园(二期)',\n",
       " '红岭大厦',\n",
       " '金色年华家园',\n",
       " '景华领莑',\n",
       " '阳光城天悦',\n",
       " '西海明珠',\n",
       " '下沙五坊',\n",
       " '万裕椰风海岸家园',\n",
       " '吉祥里',\n",
       " '东悦名轩',\n",
       " '东方明珠城',\n",
       " '新世界倚山花园三期',\n",
       " '世纪春城(四期)',\n",
       " '旭景佳园(二期)',\n",
       " '怡泰大厦',\n",
       " '旭飞花园',\n",
       " '星航华府',\n",
       " '绿景虹湾',\n",
       " '中海怡翠山庄',\n",
       " '万科清林径(三期)',\n",
       " '万科清林径(一期)',\n",
       " '香莎公馆',\n",
       " '金地名津',\n",
       " '龙平紫园',\n",
       " '公园大地',\n",
       " '幸福海',\n",
       " '碧云天',\n",
       " '传麒尚林一期',\n",
       " '汇邦名都花园',\n",
       " '汇邦名都花园',\n",
       " '城市天地广场',\n",
       " '华润银湖蓝山',\n",
       " '鸿润豪苑',\n",
       " '荷坳新村',\n",
       " '深业新岸线',\n",
       " '万科东海岸',\n",
       " '景华领莑']"
      ]
     },
     "execution_count": 136,
     "metadata": {},
     "output_type": "execute_result"
    }
   ],
   "source": [
    "community"
   ]
  },
  {
   "cell_type": "code",
   "execution_count": 131,
   "metadata": {
    "collapsed": false
   },
   "outputs": [
    {
     "data": {
      "text/plain": [
       "'龙光城\\xa0\\xa0\\n'"
      ]
     },
     "execution_count": 131,
     "metadata": {},
     "output_type": "execute_result"
    }
   ],
   "source": [
    "community[0]"
   ]
  },
  {
   "cell_type": "code",
   "execution_count": null,
   "metadata": {
    "collapsed": true
   },
   "outputs": [],
   "source": []
  }
 ],
 "metadata": {
  "kernelspec": {
   "display_name": "Python 3",
   "language": "python",
   "name": "python3"
  },
  "language_info": {
   "codemirror_mode": {
    "name": "ipython",
    "version": 3
   },
   "file_extension": ".py",
   "mimetype": "text/x-python",
   "name": "python",
   "nbconvert_exporter": "python",
   "pygments_lexer": "ipython3",
   "version": "3.6.7"
  }
 },
 "nbformat": 4,
 "nbformat_minor": 2
}

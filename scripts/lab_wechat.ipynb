{
 "cells": [
  {
   "cell_type": "code",
   "execution_count": 49,
   "metadata": {},
   "outputs": [],
   "source": [
    "import requests\n",
    "import itchat\n",
    "import pandas as pd"
   ]
  },
  {
   "cell_type": "code",
   "execution_count": 31,
   "metadata": {},
   "outputs": [
    {
     "name": "stderr",
     "output_type": "stream",
     "text": [
      "Getting uuid of QR code.\n",
      "Downloading QR code.\n",
      "Please scan the QR code to log in.\n",
      "Please press confirm on your phone.\n",
      "Loading the contact, this may take a little while.\n",
      "Login successfully as 祤翧\n"
     ]
    }
   ],
   "source": [
    "itchat.login()"
   ]
  },
  {
   "cell_type": "code",
   "execution_count": 53,
   "metadata": {},
   "outputs": [],
   "source": [
    "result = itchat.get_friends()\n",
    "\n",
    "df = []\n",
    "for i in result:\n",
    "    df.append(dict(i))\n",
    "    \n",
    "df = pd.DataFrame(df)"
   ]
  },
  {
   "cell_type": "code",
   "execution_count": null,
   "metadata": {},
   "outputs": [],
   "source": [
    "cols_to_drop = ['Alias', 'AppAccountFlag', 'AttrStatus', 'ChatRoomId' ]"
   ]
  },
  {
   "cell_type": "code",
   "execution_count": 55,
   "metadata": {},
   "outputs": [
    {
     "data": {
      "text/plain": [
       "Index(['Alias', 'AppAccountFlag', 'AttrStatus', 'ChatRoomId', 'City',\n",
       "       'ContactFlag', 'DisplayName', 'EncryChatRoomId', 'HeadImgFlag',\n",
       "       'HeadImgUrl', 'HideInputBarFlag', 'IsOwner', 'KeyWord', 'MemberCount',\n",
       "       'MemberList', 'NickName', 'OwnerUin', 'PYInitial', 'PYQuanPin',\n",
       "       'Province', 'RemarkName', 'RemarkPYInitial', 'RemarkPYQuanPin', 'Sex',\n",
       "       'Signature', 'SnsFlag', 'StarFriend', 'Statues', 'Uin', 'UniFriend',\n",
       "       'UserName', 'VerifyFlag', 'WebWxPluginSwitch'],\n",
       "      dtype='object')"
      ]
     },
     "execution_count": 55,
     "metadata": {},
     "output_type": "execute_result"
    }
   ],
   "source": [
    "df.columns"
   ]
  },
  {
   "cell_type": "code",
   "execution_count": null,
   "metadata": {},
   "outputs": [],
   "source": []
  }
 ],
 "metadata": {
  "kernelspec": {
   "display_name": "Python 3",
   "language": "python",
   "name": "python3"
  },
  "language_info": {
   "codemirror_mode": {
    "name": "ipython",
    "version": 3
   },
   "file_extension": ".py",
   "mimetype": "text/x-python",
   "name": "python",
   "nbconvert_exporter": "python",
   "pygments_lexer": "ipython3",
   "version": "3.6.2"
  }
 },
 "nbformat": 4,
 "nbformat_minor": 2
}

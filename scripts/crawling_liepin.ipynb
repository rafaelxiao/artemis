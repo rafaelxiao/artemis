{
 "cells": [
  {
   "cell_type": "code",
   "execution_count": 27,
   "metadata": {},
   "outputs": [],
   "source": [
    "import requests\n",
    "import random\n",
    "import time\n",
    "from lxml import etree"
   ]
  },
  {
   "cell_type": "code",
   "execution_count": 74,
   "metadata": {},
   "outputs": [],
   "source": [
    "class Crawl_Liepin():\n",
    "\n",
    "    user_agent = [\n",
    "        'Mozilla/5.0 (Macintosh; Intel Mac OS X 10_12_6) AppleWebKit/537.36 (KHTML, like Gecko) Chrome/61.0.3163.100 Safari/537.36',\n",
    "        'Mozilla/5.0 (Windows NT 6.1; WOW64) AppleWebKit/537.36 (KHTML, like Gecko) Chrome/39.0.2171.95 Safari/537.36 OPR/26.0.1656.60',\n",
    "        'Mozilla/5.0 (Windows NT 5.1; U; en; rv:1.8.1) Gecko/20061208 Firefox/2.0.0 Opera 9.50',\n",
    "        'Mozilla/4.0 (compatible; MSIE 6.0; Windows NT 5.1; en) Opera 9.50',\n",
    "        'Mozilla/5.0 (Windows NT 6.1; WOW64; rv:34.0) Gecko/20100101 Firefox/34.0',\n",
    "        'Mozilla/5.0 (X11; U; Linux x86_64; zh-CN; rv:1.9.2.10) Gecko/20100922 Ubuntu/10.10 (maverick) Firefox/3.6.10',\n",
    "        'Mozilla/5.0 (Windows NT 6.1; WOW64) AppleWebKit/534.57.2 (KHTML, like Gecko) Version/5.1.7 Safari/534.57.2',\n",
    "        'Mozilla/5.0 (Windows NT 6.1; WOW64) AppleWebKit/537.36 (KHTML, like Gecko) Chrome/39.0.2171.71 Safari/537.36',\n",
    "        'Mozilla/5.0 (X11; Linux x86_64) AppleWebKit/537.11 (KHTML, like Gecko) Chrome/23.0.1271.64 Safari/537.11',\n",
    "        'Mozilla/5.0 (Windows; U; Windows NT 6.1; en-US) AppleWebKit/534.16 (KHTML, like Gecko) Chrome/10.0.648.133 Safari/534.16',\n",
    "        'Mozilla/5.0 (Windows NT 6.1; WOW64) AppleWebKit/537.36 (KHTML, like Gecko) Chrome/30.0.1599.101 Safari/537.36',\n",
    "        'Mozilla/5.0 (Windows NT 6.1; WOW64; Trident/7.0; rv:11.0) like Gecko',\n",
    "        'Mozilla/5.0 (Windows NT 6.1; WOW64) AppleWebKit/537.1 (KHTML, like Gecko) Chrome/21.0.1180.71 Safari/537.1 LBBROWSER',\n",
    "        'Mozilla/5.0 (compatible; MSIE 9.0; Windows NT 6.1; WOW64; Trident/5.0; SLCC2; .NET CLR 2.0.50727; .NET CLR 3.5.30729; .NET CLR 3.0.30729; Media Center PC 6.0; .NET4.0C; .NET4.0E; LBBROWSER)',\n",
    "        'Mozilla/5.0 (compatible; MSIE 9.0; Windows NT 6.1; WOW64; Trident/5.0; SLCC2; .NET CLR 2.0.50727; .NET CLR 3.5.30729; .NET CLR 3.0.30729; Media Center PC 6.0; .NET4.0C; .NET4.0E; QQBrowser/7.0.3698.400)',\n",
    "        'Mozilla/4.0 (compatible; MSIE 6.0; Windows NT 5.1; SV1; QQDownload 732; .NET4.0C; .NET4.0E)',\n",
    "        'Mozilla/5.0 (Windows NT 5.1) AppleWebKit/535.11 (KHTML, like Gecko) Chrome/17.0.963.84 Safari/535.11 SE 2.X MetaSr 1.0',\n",
    "        'Mozilla/4.0 (compatible; MSIE 7.0; Windows NT 5.1; Trident/4.0; SV1; QQDownload 732; .NET4.0C; .NET4.0E; SE 2.X MetaSr 1.0)',\n",
    "    ]\n",
    "\n",
    "    def get_main_url(self, page, city='sz'):\n",
    "        url = 'https://www.liepin.com/city-%s/zhaopin/'%city\n",
    "        if page >= 1:\n",
    "            url += 'pn%s/'%(page-1)\n",
    "        url += '?key=&d_sfrom=search_city&d_ckId=c72351a8c506da0d2bf13032a46d9b98&d_curPage=1&d_pageSize=40&d_headId=c72351a8c506da0d2bf13032a46d9b98'\n",
    "        return url\n",
    "\n",
    "    # Crawl the page\n",
    "    def crawl(self, url, sleep=0.1):\n",
    "        headers = {'user-agent': random.choice(self.user_agent)}\n",
    "        response = requests.get(url=url, headers=headers)\n",
    "        time.sleep(sleep)\n",
    "        return response.text\n",
    "\n",
    "    def get_jd_url(self, text):\n",
    "        f = etree.HTML(text)\n",
    "        return [i for i in f.xpath('//@href') if '/job/' in i and 'shtml' in i]\n",
    "    \n",
    "    def parse_jd(self, text):\n",
    "        dic = {}\n",
    "        f = etree.HTML(text)\n",
    "        print(f.xpath('//h1/text()'))\n",
    "        dic['job_title'] = self.retrieve(f.xpath('//h1/text()'))\n",
    "        return dic\n",
    "    \n",
    "    # Compatible with the xpath lib, return the first value if finded or None if not\n",
    "    def retrieve(self, lis):\n",
    "        if len(lis) > 0:\n",
    "            return lis[0]\n",
    "        else:\n",
    "            return None"
   ]
  },
  {
   "cell_type": "code",
   "execution_count": 78,
   "metadata": {},
   "outputs": [
    {
     "name": "stdout",
     "output_type": "stream",
     "text": [
      "['外贸业务员']\n"
     ]
    },
    {
     "data": {
      "text/plain": [
       "{'job_title': '外贸业务员'}"
      ]
     },
     "execution_count": 78,
     "metadata": {},
     "output_type": "execute_result"
    }
   ],
   "source": [
    "crawler = Crawl_Liepin()\n",
    "url = crawler.get_main_url(2)\n",
    "text = crawler.crawl(url)\n",
    "jd_urls = crawler.get_jd_url(text)\n",
    "text = crawler.crawl(jd_urls[0])\n",
    "crawler.parse_jd(text)"
   ]
  },
  {
   "cell_type": "code",
   "execution_count": 73,
   "metadata": {},
   "outputs": [
    {
     "data": {
      "text/plain": [
       "'https://www.liepin.com/job/1916211027.shtml'"
      ]
     },
     "execution_count": 73,
     "metadata": {},
     "output_type": "execute_result"
    }
   ],
   "source": [
    "jd_urls[0]"
   ]
  },
  {
   "cell_type": "code",
   "execution_count": 60,
   "metadata": {},
   "outputs": [],
   "source": [
    "f = crawler.crawl(jd_urls[0])\n",
    "f = etree.HTML(f)"
   ]
  },
  {
   "cell_type": "code",
   "execution_count": 47,
   "metadata": {},
   "outputs": [
    {
     "data": {
      "text/plain": [
       "['https://www.liepin.com/job/1918431353.shtml',\n",
       " 'https://www.liepin.com/job/1919322513.shtml',\n",
       " 'https://www.liepin.com/job/1913569703.shtml',\n",
       " 'https://www.liepin.com/job/196230656.shtml',\n",
       " 'https://www.liepin.com/job/196725132.shtml',\n",
       " 'https://www.liepin.com/job/1920805713.shtml',\n",
       " 'https://www.liepin.com/job/1919746797.shtml',\n",
       " 'https://www.liepin.com/job/1918921025.shtml',\n",
       " 'https://www.liepin.com/job/1919040401.shtml',\n",
       " 'https://www.liepin.com/job/1920295197.shtml',\n",
       " 'https://www.liepin.com/job/1921261735.shtml',\n",
       " 'https://www.liepin.com/job/1921012721.shtml',\n",
       " 'https://www.liepin.com/job/1915448003.shtml',\n",
       " 'https://www.liepin.com/job/1917447057.shtml',\n",
       " 'https://www.liepin.com/job/1921175167.shtml',\n",
       " 'https://www.liepin.com/job/1921175127.shtml',\n",
       " 'https://www.liepin.com/job/1919704147.shtml',\n",
       " 'https://www.liepin.com/job/1921158673.shtml',\n",
       " 'https://www.liepin.com/job/1921177225.shtml',\n",
       " 'https://www.liepin.com/job/1920497239.shtml',\n",
       " 'https://www.liepin.com/job/1920499079.shtml',\n",
       " 'https://www.liepin.com/job/195702921.shtml',\n",
       " 'https://www.liepin.com/job/1914208613.shtml',\n",
       " 'https://www.liepin.com/job/1914189972.shtml',\n",
       " 'https://www.liepin.com/job/1921065721.shtml',\n",
       " 'https://www.liepin.com/job/1921000541.shtml',\n",
       " 'https://www.liepin.com/job/1917810365.shtml',\n",
       " 'https://www.liepin.com/job/1914205647.shtml',\n",
       " 'https://www.liepin.com/job/1920438655.shtml',\n",
       " 'https://www.liepin.com/job/1920328547.shtml',\n",
       " 'https://www.liepin.com/job/1920238169.shtml',\n",
       " 'https://www.liepin.com/job/1920226613.shtml',\n",
       " 'https://www.liepin.com/job/1920003429.shtml',\n",
       " 'https://www.liepin.com/job/1919522163.shtml',\n",
       " 'https://www.liepin.com/job/1919452445.shtml',\n",
       " 'https://www.liepin.com/job/1919365311.shtml',\n",
       " 'https://www.liepin.com/job/1919144659.shtml',\n",
       " 'https://www.liepin.com/job/1917817417.shtml',\n",
       " 'https://www.liepin.com/job/1917479827.shtml']"
      ]
     },
     "execution_count": 47,
     "metadata": {},
     "output_type": "execute_result"
    }
   ],
   "source": [
    "[i for i in f.xpath('//@href') if '/job/' in i and 'shtml' in i]"
   ]
  },
  {
   "cell_type": "code",
   "execution_count": 68,
   "metadata": {},
   "outputs": [
    {
     "data": {
      "text/plain": [
       "'外贸业务员'"
      ]
     },
     "execution_count": 68,
     "metadata": {},
     "output_type": "execute_result"
    }
   ],
   "source": [
    "crawler.retrieve(f.xpath('//h1/text()'))"
   ]
  },
  {
   "cell_type": "code",
   "execution_count": null,
   "metadata": {},
   "outputs": [],
   "source": []
  }
 ],
 "metadata": {
  "kernelspec": {
   "display_name": "Python 3",
   "language": "python",
   "name": "python3"
  },
  "language_info": {
   "codemirror_mode": {
    "name": "ipython",
    "version": 3
   },
   "file_extension": ".py",
   "mimetype": "text/x-python",
   "name": "python",
   "nbconvert_exporter": "python",
   "pygments_lexer": "ipython3",
   "version": "3.6.2"
  }
 },
 "nbformat": 4,
 "nbformat_minor": 2
}
